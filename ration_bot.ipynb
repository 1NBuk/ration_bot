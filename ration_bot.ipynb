{
  "cells": [
    {
      "cell_type": "markdown",
      "metadata": {
        "id": "rv3bHi5v1PIe"
      },
      "source": [
        "## Импорты"
      ]
    },
    {
      "cell_type": "code",
      "execution_count": null,
      "metadata": {
        "colab": {
          "base_uri": "https://localhost:8080/"
        },
        "id": "4tE1wQx_5joG",
        "outputId": "620c72a6-3be9-4c5c-c748-ffe64e038e51"
      },
      "outputs": [
        {
          "name": "stdout",
          "output_type": "stream",
          "text": [
            "Collecting aiogram\n",
            "  Downloading aiogram-3.15.0-py3-none-any.whl.metadata (7.5 kB)\n",
            "Collecting aiosqlite\n",
            "  Downloading aiosqlite-0.20.0-py3-none-any.whl.metadata (4.3 kB)\n",
            "Collecting aiofiles<24.2,>=23.2.1 (from aiogram)\n",
            "  Downloading aiofiles-24.1.0-py3-none-any.whl.metadata (10 kB)\n",
            "Collecting aiohttp<3.11,>=3.9.0 (from aiogram)\n",
            "  Downloading aiohttp-3.10.11-cp310-cp310-manylinux_2_17_x86_64.manylinux2014_x86_64.whl.metadata (7.7 kB)\n",
            "Requirement already satisfied: certifi>=2023.7.22 in /usr/local/lib/python3.10/dist-packages (from aiogram) (2024.12.14)\n",
            "Collecting magic-filter<1.1,>=1.0.12 (from aiogram)\n",
            "  Downloading magic_filter-1.0.12-py3-none-any.whl.metadata (1.5 kB)\n",
            "Collecting pydantic<2.10,>=2.4.1 (from aiogram)\n",
            "  Downloading pydantic-2.9.2-py3-none-any.whl.metadata (149 kB)\n",
            "\u001b[2K     \u001b[90m━━━━━━━━━━━━━━━━━━━━━━━━━━━━━━━━━━━━━━━━\u001b[0m \u001b[32m149.4/149.4 kB\u001b[0m \u001b[31m1.6 MB/s\u001b[0m eta \u001b[36m0:00:00\u001b[0m\n",
            "\u001b[?25hRequirement already satisfied: typing-extensions<=5.0,>=4.7.0 in /usr/local/lib/python3.10/dist-packages (from aiogram) (4.12.2)\n",
            "Requirement already satisfied: aiohappyeyeballs>=2.3.0 in /usr/local/lib/python3.10/dist-packages (from aiohttp<3.11,>=3.9.0->aiogram) (2.4.4)\n",
            "Requirement already satisfied: aiosignal>=1.1.2 in /usr/local/lib/python3.10/dist-packages (from aiohttp<3.11,>=3.9.0->aiogram) (1.3.2)\n",
            "Requirement already satisfied: attrs>=17.3.0 in /usr/local/lib/python3.10/dist-packages (from aiohttp<3.11,>=3.9.0->aiogram) (24.3.0)\n",
            "Requirement already satisfied: frozenlist>=1.1.1 in /usr/local/lib/python3.10/dist-packages (from aiohttp<3.11,>=3.9.0->aiogram) (1.5.0)\n",
            "Requirement already satisfied: multidict<7.0,>=4.5 in /usr/local/lib/python3.10/dist-packages (from aiohttp<3.11,>=3.9.0->aiogram) (6.1.0)\n",
            "Requirement already satisfied: yarl<2.0,>=1.12.0 in /usr/local/lib/python3.10/dist-packages (from aiohttp<3.11,>=3.9.0->aiogram) (1.18.3)\n",
            "Requirement already satisfied: async-timeout<6.0,>=4.0 in /usr/local/lib/python3.10/dist-packages (from aiohttp<3.11,>=3.9.0->aiogram) (4.0.3)\n",
            "Requirement already satisfied: annotated-types>=0.6.0 in /usr/local/lib/python3.10/dist-packages (from pydantic<2.10,>=2.4.1->aiogram) (0.7.0)\n",
            "Collecting pydantic-core==2.23.4 (from pydantic<2.10,>=2.4.1->aiogram)\n",
            "  Downloading pydantic_core-2.23.4-cp310-cp310-manylinux_2_17_x86_64.manylinux2014_x86_64.whl.metadata (6.6 kB)\n",
            "Requirement already satisfied: idna>=2.0 in /usr/local/lib/python3.10/dist-packages (from yarl<2.0,>=1.12.0->aiohttp<3.11,>=3.9.0->aiogram) (3.10)\n",
            "Requirement already satisfied: propcache>=0.2.0 in /usr/local/lib/python3.10/dist-packages (from yarl<2.0,>=1.12.0->aiohttp<3.11,>=3.9.0->aiogram) (0.2.1)\n",
            "Downloading aiogram-3.15.0-py3-none-any.whl (603 kB)\n",
            "\u001b[2K   \u001b[90m━━━━━━━━━━━━━━━━━━━━━━━━━━━━━━━━━━━━━━━━\u001b[0m \u001b[32m603.9/603.9 kB\u001b[0m \u001b[31m11.4 MB/s\u001b[0m eta \u001b[36m0:00:00\u001b[0m\n",
            "\u001b[?25hDownloading aiosqlite-0.20.0-py3-none-any.whl (15 kB)\n",
            "Downloading aiofiles-24.1.0-py3-none-any.whl (15 kB)\n",
            "Downloading aiohttp-3.10.11-cp310-cp310-manylinux_2_17_x86_64.manylinux2014_x86_64.whl (1.2 MB)\n",
            "\u001b[2K   \u001b[90m━━━━━━━━━━━━━━━━━━━━━━━━━━━━━━━━━━━━━━━━\u001b[0m \u001b[32m1.2/1.2 MB\u001b[0m \u001b[31m15.3 MB/s\u001b[0m eta \u001b[36m0:00:00\u001b[0m\n",
            "\u001b[?25hDownloading magic_filter-1.0.12-py3-none-any.whl (11 kB)\n",
            "Downloading pydantic-2.9.2-py3-none-any.whl (434 kB)\n",
            "\u001b[2K   \u001b[90m━━━━━━━━━━━━━━━━━━━━━━━━━━━━━━━━━━━━━━━━\u001b[0m \u001b[32m434.9/434.9 kB\u001b[0m \u001b[31m9.8 MB/s\u001b[0m eta \u001b[36m0:00:00\u001b[0m\n",
            "\u001b[?25hDownloading pydantic_core-2.23.4-cp310-cp310-manylinux_2_17_x86_64.manylinux2014_x86_64.whl (2.1 MB)\n",
            "\u001b[2K   \u001b[90m━━━━━━━━━━━━━━━━━━━━━━━━━━━━━━━━━━━━━━━━\u001b[0m \u001b[32m2.1/2.1 MB\u001b[0m \u001b[31m23.3 MB/s\u001b[0m eta \u001b[36m0:00:00\u001b[0m\n",
            "\u001b[?25hInstalling collected packages: pydantic-core, magic-filter, aiosqlite, aiofiles, pydantic, aiohttp, aiogram\n",
            "  Attempting uninstall: pydantic-core\n",
            "    Found existing installation: pydantic_core 2.27.1\n",
            "    Uninstalling pydantic_core-2.27.1:\n",
            "      Successfully uninstalled pydantic_core-2.27.1\n",
            "  Attempting uninstall: pydantic\n",
            "    Found existing installation: pydantic 2.10.3\n",
            "    Uninstalling pydantic-2.10.3:\n",
            "      Successfully uninstalled pydantic-2.10.3\n",
            "  Attempting uninstall: aiohttp\n",
            "    Found existing installation: aiohttp 3.11.10\n",
            "    Uninstalling aiohttp-3.11.10:\n",
            "      Successfully uninstalled aiohttp-3.11.10\n",
            "Successfully installed aiofiles-24.1.0 aiogram-3.15.0 aiohttp-3.10.11 aiosqlite-0.20.0 magic-filter-1.0.12 pydantic-2.9.2 pydantic-core-2.23.4\n"
          ]
        }
      ],
      "source": [
        "!pip install aiogram aiosqlite\n"
      ]
    },
    {
      "cell_type": "code",
      "execution_count": null,
      "metadata": {
        "colab": {
          "base_uri": "https://localhost:8080/"
        },
        "id": "3jr2LxdkPNr_",
        "outputId": "ac566713-cc78-44dc-ddea-8e4556fd223a"
      },
      "outputs": [
        {
          "name": "stdout",
          "output_type": "stream",
          "text": [
            "Collecting datasets\n",
            "  Downloading datasets-3.2.0-py3-none-any.whl.metadata (20 kB)\n",
            "Collecting evaluate\n",
            "  Downloading evaluate-0.4.3-py3-none-any.whl.metadata (9.2 kB)\n",
            "Requirement already satisfied: accelerate in /usr/local/lib/python3.10/dist-packages (1.2.1)\n",
            "Requirement already satisfied: filelock in /usr/local/lib/python3.10/dist-packages (from datasets) (3.16.1)\n",
            "Requirement already satisfied: numpy>=1.17 in /usr/local/lib/python3.10/dist-packages (from datasets) (1.26.4)\n",
            "Requirement already satisfied: pyarrow>=15.0.0 in /usr/local/lib/python3.10/dist-packages (from datasets) (17.0.0)\n",
            "Collecting dill<0.3.9,>=0.3.0 (from datasets)\n",
            "  Downloading dill-0.3.8-py3-none-any.whl.metadata (10 kB)\n",
            "Requirement already satisfied: pandas in /usr/local/lib/python3.10/dist-packages (from datasets) (2.2.2)\n",
            "Requirement already satisfied: requests>=2.32.2 in /usr/local/lib/python3.10/dist-packages (from datasets) (2.32.3)\n",
            "Requirement already satisfied: tqdm>=4.66.3 in /usr/local/lib/python3.10/dist-packages (from datasets) (4.67.1)\n",
            "Collecting xxhash (from datasets)\n",
            "  Downloading xxhash-3.5.0-cp310-cp310-manylinux_2_17_x86_64.manylinux2014_x86_64.whl.metadata (12 kB)\n",
            "Collecting multiprocess<0.70.17 (from datasets)\n",
            "  Downloading multiprocess-0.70.16-py310-none-any.whl.metadata (7.2 kB)\n",
            "Collecting fsspec<=2024.9.0,>=2023.1.0 (from fsspec[http]<=2024.9.0,>=2023.1.0->datasets)\n",
            "  Downloading fsspec-2024.9.0-py3-none-any.whl.metadata (11 kB)\n",
            "Requirement already satisfied: aiohttp in /usr/local/lib/python3.10/dist-packages (from datasets) (3.10.11)\n",
            "Requirement already satisfied: huggingface-hub>=0.23.0 in /usr/local/lib/python3.10/dist-packages (from datasets) (0.27.0)\n",
            "Requirement already satisfied: packaging in /usr/local/lib/python3.10/dist-packages (from datasets) (24.2)\n",
            "Requirement already satisfied: pyyaml>=5.1 in /usr/local/lib/python3.10/dist-packages (from datasets) (6.0.2)\n",
            "Requirement already satisfied: psutil in /usr/local/lib/python3.10/dist-packages (from accelerate) (5.9.5)\n",
            "Requirement already satisfied: torch>=1.10.0 in /usr/local/lib/python3.10/dist-packages (from accelerate) (2.5.1+cu121)\n",
            "Requirement already satisfied: safetensors>=0.4.3 in /usr/local/lib/python3.10/dist-packages (from accelerate) (0.4.5)\n",
            "Requirement already satisfied: aiohappyeyeballs>=2.3.0 in /usr/local/lib/python3.10/dist-packages (from aiohttp->datasets) (2.4.4)\n",
            "Requirement already satisfied: aiosignal>=1.1.2 in /usr/local/lib/python3.10/dist-packages (from aiohttp->datasets) (1.3.2)\n",
            "Requirement already satisfied: attrs>=17.3.0 in /usr/local/lib/python3.10/dist-packages (from aiohttp->datasets) (24.3.0)\n",
            "Requirement already satisfied: frozenlist>=1.1.1 in /usr/local/lib/python3.10/dist-packages (from aiohttp->datasets) (1.5.0)\n",
            "Requirement already satisfied: multidict<7.0,>=4.5 in /usr/local/lib/python3.10/dist-packages (from aiohttp->datasets) (6.1.0)\n",
            "Requirement already satisfied: yarl<2.0,>=1.12.0 in /usr/local/lib/python3.10/dist-packages (from aiohttp->datasets) (1.18.3)\n",
            "Requirement already satisfied: async-timeout<6.0,>=4.0 in /usr/local/lib/python3.10/dist-packages (from aiohttp->datasets) (4.0.3)\n",
            "Requirement already satisfied: typing-extensions>=3.7.4.3 in /usr/local/lib/python3.10/dist-packages (from huggingface-hub>=0.23.0->datasets) (4.12.2)\n",
            "Requirement already satisfied: charset-normalizer<4,>=2 in /usr/local/lib/python3.10/dist-packages (from requests>=2.32.2->datasets) (3.4.0)\n",
            "Requirement already satisfied: idna<4,>=2.5 in /usr/local/lib/python3.10/dist-packages (from requests>=2.32.2->datasets) (3.10)\n",
            "Requirement already satisfied: urllib3<3,>=1.21.1 in /usr/local/lib/python3.10/dist-packages (from requests>=2.32.2->datasets) (2.2.3)\n",
            "Requirement already satisfied: certifi>=2017.4.17 in /usr/local/lib/python3.10/dist-packages (from requests>=2.32.2->datasets) (2024.12.14)\n",
            "Requirement already satisfied: networkx in /usr/local/lib/python3.10/dist-packages (from torch>=1.10.0->accelerate) (3.4.2)\n",
            "Requirement already satisfied: jinja2 in /usr/local/lib/python3.10/dist-packages (from torch>=1.10.0->accelerate) (3.1.4)\n",
            "Requirement already satisfied: sympy==1.13.1 in /usr/local/lib/python3.10/dist-packages (from torch>=1.10.0->accelerate) (1.13.1)\n",
            "Requirement already satisfied: mpmath<1.4,>=1.1.0 in /usr/local/lib/python3.10/dist-packages (from sympy==1.13.1->torch>=1.10.0->accelerate) (1.3.0)\n",
            "Requirement already satisfied: python-dateutil>=2.8.2 in /usr/local/lib/python3.10/dist-packages (from pandas->datasets) (2.8.2)\n",
            "Requirement already satisfied: pytz>=2020.1 in /usr/local/lib/python3.10/dist-packages (from pandas->datasets) (2024.2)\n",
            "Requirement already satisfied: tzdata>=2022.7 in /usr/local/lib/python3.10/dist-packages (from pandas->datasets) (2024.2)\n",
            "Requirement already satisfied: six>=1.5 in /usr/local/lib/python3.10/dist-packages (from python-dateutil>=2.8.2->pandas->datasets) (1.17.0)\n",
            "Requirement already satisfied: propcache>=0.2.0 in /usr/local/lib/python3.10/dist-packages (from yarl<2.0,>=1.12.0->aiohttp->datasets) (0.2.1)\n",
            "Requirement already satisfied: MarkupSafe>=2.0 in /usr/local/lib/python3.10/dist-packages (from jinja2->torch>=1.10.0->accelerate) (3.0.2)\n",
            "Downloading datasets-3.2.0-py3-none-any.whl (480 kB)\n",
            "\u001b[2K   \u001b[90m━━━━━━━━━━━━━━━━━━━━━━━━━━━━━━━━━━━━━━━━\u001b[0m \u001b[32m480.6/480.6 kB\u001b[0m \u001b[31m8.4 MB/s\u001b[0m eta \u001b[36m0:00:00\u001b[0m\n",
            "\u001b[?25hDownloading evaluate-0.4.3-py3-none-any.whl (84 kB)\n",
            "\u001b[2K   \u001b[90m━━━━━━━━━━━━━━━━━━━━━━━━━━━━━━━━━━━━━━━━\u001b[0m \u001b[32m84.0/84.0 kB\u001b[0m \u001b[31m5.4 MB/s\u001b[0m eta \u001b[36m0:00:00\u001b[0m\n",
            "\u001b[?25hDownloading dill-0.3.8-py3-none-any.whl (116 kB)\n",
            "\u001b[2K   \u001b[90m━━━━━━━━━━━━━━━━━━━━━━━━━━━━━━━━━━━━━━━━\u001b[0m \u001b[32m116.3/116.3 kB\u001b[0m \u001b[31m10.1 MB/s\u001b[0m eta \u001b[36m0:00:00\u001b[0m\n",
            "\u001b[?25hDownloading fsspec-2024.9.0-py3-none-any.whl (179 kB)\n",
            "\u001b[2K   \u001b[90m━━━━━━━━━━━━━━━━━━━━━━━━━━━━━━━━━━━━━━━━\u001b[0m \u001b[32m179.3/179.3 kB\u001b[0m \u001b[31m8.4 MB/s\u001b[0m eta \u001b[36m0:00:00\u001b[0m\n",
            "\u001b[?25hDownloading multiprocess-0.70.16-py310-none-any.whl (134 kB)\n",
            "\u001b[2K   \u001b[90m━━━━━━━━━━━━━━━━━━━━━━━━━━━━━━━━━━━━━━━━\u001b[0m \u001b[32m134.8/134.8 kB\u001b[0m \u001b[31m5.4 MB/s\u001b[0m eta \u001b[36m0:00:00\u001b[0m\n",
            "\u001b[?25hDownloading xxhash-3.5.0-cp310-cp310-manylinux_2_17_x86_64.manylinux2014_x86_64.whl (194 kB)\n",
            "\u001b[2K   \u001b[90m━━━━━━━━━━━━━━━━━━━━━━━━━━━━━━━━━━━━━━━━\u001b[0m \u001b[32m194.1/194.1 kB\u001b[0m \u001b[31m4.9 MB/s\u001b[0m eta \u001b[36m0:00:00\u001b[0m\n",
            "\u001b[?25hInstalling collected packages: xxhash, fsspec, dill, multiprocess, datasets, evaluate\n",
            "  Attempting uninstall: fsspec\n",
            "    Found existing installation: fsspec 2024.10.0\n",
            "    Uninstalling fsspec-2024.10.0:\n",
            "      Successfully uninstalled fsspec-2024.10.0\n",
            "\u001b[31mERROR: pip's dependency resolver does not currently take into account all the packages that are installed. This behaviour is the source of the following dependency conflicts.\n",
            "gcsfs 2024.10.0 requires fsspec==2024.10.0, but you have fsspec 2024.9.0 which is incompatible.\u001b[0m\u001b[31m\n",
            "\u001b[0mSuccessfully installed datasets-3.2.0 dill-0.3.8 evaluate-0.4.3 fsspec-2024.9.0 multiprocess-0.70.16 xxhash-3.5.0\n"
          ]
        }
      ],
      "source": [
        "!pip install datasets evaluate accelerate"
      ]
    },
    {
      "cell_type": "code",
      "execution_count": null,
      "metadata": {
        "colab": {
          "base_uri": "https://localhost:8080/"
        },
        "id": "ezmXxADJ6BSS",
        "outputId": "78d64825-da53-4b0d-9680-992ee462e3c3"
      },
      "outputs": [
        {
          "name": "stdout",
          "output_type": "stream",
          "text": [
            "Requirement already satisfied: transformers in /usr/local/lib/python3.10/dist-packages (4.47.1)\n",
            "Requirement already satisfied: einops in /usr/local/lib/python3.10/dist-packages (0.8.0)\n",
            "Requirement already satisfied: filelock in /usr/local/lib/python3.10/dist-packages (from transformers) (3.16.1)\n",
            "Requirement already satisfied: huggingface-hub<1.0,>=0.24.0 in /usr/local/lib/python3.10/dist-packages (from transformers) (0.27.0)\n",
            "Requirement already satisfied: numpy>=1.17 in /usr/local/lib/python3.10/dist-packages (from transformers) (1.26.4)\n",
            "Requirement already satisfied: packaging>=20.0 in /usr/local/lib/python3.10/dist-packages (from transformers) (24.2)\n",
            "Requirement already satisfied: pyyaml>=5.1 in /usr/local/lib/python3.10/dist-packages (from transformers) (6.0.2)\n",
            "Requirement already satisfied: regex!=2019.12.17 in /usr/local/lib/python3.10/dist-packages (from transformers) (2024.11.6)\n",
            "Requirement already satisfied: requests in /usr/local/lib/python3.10/dist-packages (from transformers) (2.32.3)\n",
            "Requirement already satisfied: tokenizers<0.22,>=0.21 in /usr/local/lib/python3.10/dist-packages (from transformers) (0.21.0)\n",
            "Requirement already satisfied: safetensors>=0.4.1 in /usr/local/lib/python3.10/dist-packages (from transformers) (0.4.5)\n",
            "Requirement already satisfied: tqdm>=4.27 in /usr/local/lib/python3.10/dist-packages (from transformers) (4.67.1)\n",
            "Requirement already satisfied: fsspec>=2023.5.0 in /usr/local/lib/python3.10/dist-packages (from huggingface-hub<1.0,>=0.24.0->transformers) (2024.9.0)\n",
            "Requirement already satisfied: typing-extensions>=3.7.4.3 in /usr/local/lib/python3.10/dist-packages (from huggingface-hub<1.0,>=0.24.0->transformers) (4.12.2)\n",
            "Requirement already satisfied: charset-normalizer<4,>=2 in /usr/local/lib/python3.10/dist-packages (from requests->transformers) (3.4.0)\n",
            "Requirement already satisfied: idna<4,>=2.5 in /usr/local/lib/python3.10/dist-packages (from requests->transformers) (3.10)\n",
            "Requirement already satisfied: urllib3<3,>=1.21.1 in /usr/local/lib/python3.10/dist-packages (from requests->transformers) (2.2.3)\n",
            "Requirement already satisfied: certifi>=2017.4.17 in /usr/local/lib/python3.10/dist-packages (from requests->transformers) (2024.12.14)\n"
          ]
        }
      ],
      "source": [
        "!pip install transformers einops"
      ]
    },
    {
      "cell_type": "code",
      "execution_count": null,
      "metadata": {
        "colab": {
          "base_uri": "https://localhost:8080/"
        },
        "id": "0XIO7YKE1CZV",
        "outputId": "1603bf82-f29a-4a57-ccdc-d1bce752d47a"
      },
      "outputs": [
        {
          "name": "stdout",
          "output_type": "stream",
          "text": [
            "Collecting sacremoses\n",
            "  Downloading sacremoses-0.1.1-py3-none-any.whl.metadata (8.3 kB)\n",
            "Requirement already satisfied: regex in /usr/local/lib/python3.10/dist-packages (from sacremoses) (2024.11.6)\n",
            "Requirement already satisfied: click in /usr/local/lib/python3.10/dist-packages (from sacremoses) (8.1.7)\n",
            "Requirement already satisfied: joblib in /usr/local/lib/python3.10/dist-packages (from sacremoses) (1.4.2)\n",
            "Requirement already satisfied: tqdm in /usr/local/lib/python3.10/dist-packages (from sacremoses) (4.67.1)\n",
            "Downloading sacremoses-0.1.1-py3-none-any.whl (897 kB)\n",
            "\u001b[?25l   \u001b[90m━━━━━━━━━━━━━━━━━━━━━━━━━━━━━━━━━━━━━━━━\u001b[0m \u001b[32m0.0/897.5 kB\u001b[0m \u001b[31m?\u001b[0m eta \u001b[36m-:--:--\u001b[0m\r\u001b[2K   \u001b[91m━━━━\u001b[0m\u001b[91m╸\u001b[0m\u001b[90m━━━━━━━━━━━━━━━━━━━━━━━━━━━━━━━━━━━\u001b[0m \u001b[32m102.4/897.5 kB\u001b[0m \u001b[31m2.8 MB/s\u001b[0m eta \u001b[36m0:00:01\u001b[0m\r\u001b[2K   \u001b[91m━━━━━━━━━━━━━━━━━━━━━━━━━━━━━━━\u001b[0m\u001b[91m╸\u001b[0m\u001b[90m━━━━━━━━\u001b[0m \u001b[32m716.8/897.5 kB\u001b[0m \u001b[31m10.0 MB/s\u001b[0m eta \u001b[36m0:00:01\u001b[0m\r\u001b[2K   \u001b[90m━━━━━━━━━━━━━━━━━━━━━━━━━━━━━━━━━━━━━━━━\u001b[0m \u001b[32m897.5/897.5 kB\u001b[0m \u001b[31m9.7 MB/s\u001b[0m eta \u001b[36m0:00:00\u001b[0m\n",
            "\u001b[?25hInstalling collected packages: sacremoses\n",
            "Successfully installed sacremoses-0.1.1\n"
          ]
        }
      ],
      "source": [
        "!pip install sacremoses"
      ]
    },
    {
      "cell_type": "code",
      "execution_count": null,
      "metadata": {
        "colab": {
          "base_uri": "https://localhost:8080/"
        },
        "id": "GkR7qgLL037I",
        "outputId": "0a319d79-91ee-427b-b704-281ad99edff2"
      },
      "outputs": [
        {
          "name": "stdout",
          "output_type": "stream",
          "text": [
            "Requirement already satisfied: aiogram in /usr/local/lib/python3.10/dist-packages (3.15.0)\n",
            "Requirement already satisfied: aiofiles<24.2,>=23.2.1 in /usr/local/lib/python3.10/dist-packages (from aiogram) (24.1.0)\n",
            "Requirement already satisfied: aiohttp<3.11,>=3.9.0 in /usr/local/lib/python3.10/dist-packages (from aiogram) (3.10.11)\n",
            "Requirement already satisfied: certifi>=2023.7.22 in /usr/local/lib/python3.10/dist-packages (from aiogram) (2024.12.14)\n",
            "Requirement already satisfied: magic-filter<1.1,>=1.0.12 in /usr/local/lib/python3.10/dist-packages (from aiogram) (1.0.12)\n",
            "Requirement already satisfied: pydantic<2.10,>=2.4.1 in /usr/local/lib/python3.10/dist-packages (from aiogram) (2.9.2)\n",
            "Requirement already satisfied: typing-extensions<=5.0,>=4.7.0 in /usr/local/lib/python3.10/dist-packages (from aiogram) (4.12.2)\n",
            "Requirement already satisfied: aiohappyeyeballs>=2.3.0 in /usr/local/lib/python3.10/dist-packages (from aiohttp<3.11,>=3.9.0->aiogram) (2.4.4)\n",
            "Requirement already satisfied: aiosignal>=1.1.2 in /usr/local/lib/python3.10/dist-packages (from aiohttp<3.11,>=3.9.0->aiogram) (1.3.2)\n",
            "Requirement already satisfied: attrs>=17.3.0 in /usr/local/lib/python3.10/dist-packages (from aiohttp<3.11,>=3.9.0->aiogram) (24.3.0)\n",
            "Requirement already satisfied: frozenlist>=1.1.1 in /usr/local/lib/python3.10/dist-packages (from aiohttp<3.11,>=3.9.0->aiogram) (1.5.0)\n",
            "Requirement already satisfied: multidict<7.0,>=4.5 in /usr/local/lib/python3.10/dist-packages (from aiohttp<3.11,>=3.9.0->aiogram) (6.1.0)\n",
            "Requirement already satisfied: yarl<2.0,>=1.12.0 in /usr/local/lib/python3.10/dist-packages (from aiohttp<3.11,>=3.9.0->aiogram) (1.18.3)\n",
            "Requirement already satisfied: async-timeout<6.0,>=4.0 in /usr/local/lib/python3.10/dist-packages (from aiohttp<3.11,>=3.9.0->aiogram) (4.0.3)\n",
            "Requirement already satisfied: annotated-types>=0.6.0 in /usr/local/lib/python3.10/dist-packages (from pydantic<2.10,>=2.4.1->aiogram) (0.7.0)\n",
            "Requirement already satisfied: pydantic-core==2.23.4 in /usr/local/lib/python3.10/dist-packages (from pydantic<2.10,>=2.4.1->aiogram) (2.23.4)\n",
            "Requirement already satisfied: idna>=2.0 in /usr/local/lib/python3.10/dist-packages (from yarl<2.0,>=1.12.0->aiohttp<3.11,>=3.9.0->aiogram) (3.10)\n",
            "Requirement already satisfied: propcache>=0.2.0 in /usr/local/lib/python3.10/dist-packages (from yarl<2.0,>=1.12.0->aiohttp<3.11,>=3.9.0->aiogram) (0.2.1)\n"
          ]
        }
      ],
      "source": [
        "!pip install aiogram"
      ]
    },
    {
      "cell_type": "code",
      "execution_count": null,
      "metadata": {
        "colab": {
          "base_uri": "https://localhost:8080/"
        },
        "id": "a-pZ64I5i5hA",
        "outputId": "09411152-db1c-4a68-ac54-a640db50d454"
      },
      "outputs": [
        {
          "name": "stdout",
          "output_type": "stream",
          "text": [
            "Collecting aiogram==2.25.1\n",
            "  Downloading aiogram-2.25.1-py3-none-any.whl.metadata (3.9 kB)\n",
            "Collecting aiohttp<3.9.0,>=3.8.0 (from aiogram==2.25.1)\n",
            "  Downloading aiohttp-3.8.6-cp310-cp310-manylinux_2_17_x86_64.manylinux2014_x86_64.whl.metadata (7.7 kB)\n",
            "Collecting Babel<2.10.0,>=2.9.1 (from aiogram==2.25.1)\n",
            "  Downloading Babel-2.9.1-py2.py3-none-any.whl.metadata (1.2 kB)\n",
            "Requirement already satisfied: certifi>=2021.10.8 in /usr/local/lib/python3.10/dist-packages (from aiogram==2.25.1) (2024.12.14)\n",
            "Requirement already satisfied: magic-filter>=1.0.9 in /usr/local/lib/python3.10/dist-packages (from aiogram==2.25.1) (1.0.12)\n",
            "Requirement already satisfied: attrs>=17.3.0 in /usr/local/lib/python3.10/dist-packages (from aiohttp<3.9.0,>=3.8.0->aiogram==2.25.1) (24.3.0)\n",
            "Requirement already satisfied: charset-normalizer<4.0,>=2.0 in /usr/local/lib/python3.10/dist-packages (from aiohttp<3.9.0,>=3.8.0->aiogram==2.25.1) (3.4.0)\n",
            "Requirement already satisfied: multidict<7.0,>=4.5 in /usr/local/lib/python3.10/dist-packages (from aiohttp<3.9.0,>=3.8.0->aiogram==2.25.1) (6.1.0)\n",
            "Requirement already satisfied: async-timeout<5.0,>=4.0.0a3 in /usr/local/lib/python3.10/dist-packages (from aiohttp<3.9.0,>=3.8.0->aiogram==2.25.1) (4.0.3)\n",
            "Requirement already satisfied: yarl<2.0,>=1.0 in /usr/local/lib/python3.10/dist-packages (from aiohttp<3.9.0,>=3.8.0->aiogram==2.25.1) (1.18.3)\n",
            "Requirement already satisfied: frozenlist>=1.1.1 in /usr/local/lib/python3.10/dist-packages (from aiohttp<3.9.0,>=3.8.0->aiogram==2.25.1) (1.5.0)\n",
            "Requirement already satisfied: aiosignal>=1.1.2 in /usr/local/lib/python3.10/dist-packages (from aiohttp<3.9.0,>=3.8.0->aiogram==2.25.1) (1.3.2)\n",
            "Requirement already satisfied: pytz>=2015.7 in /usr/local/lib/python3.10/dist-packages (from Babel<2.10.0,>=2.9.1->aiogram==2.25.1) (2024.2)\n",
            "Requirement already satisfied: typing-extensions>=4.1.0 in /usr/local/lib/python3.10/dist-packages (from multidict<7.0,>=4.5->aiohttp<3.9.0,>=3.8.0->aiogram==2.25.1) (4.12.2)\n",
            "Requirement already satisfied: idna>=2.0 in /usr/local/lib/python3.10/dist-packages (from yarl<2.0,>=1.0->aiohttp<3.9.0,>=3.8.0->aiogram==2.25.1) (3.10)\n",
            "Requirement already satisfied: propcache>=0.2.0 in /usr/local/lib/python3.10/dist-packages (from yarl<2.0,>=1.0->aiohttp<3.9.0,>=3.8.0->aiogram==2.25.1) (0.2.1)\n",
            "Downloading aiogram-2.25.1-py3-none-any.whl (203 kB)\n",
            "\u001b[2K   \u001b[90m━━━━━━━━━━━━━━━━━━━━━━━━━━━━━━━━━━━━━━━━\u001b[0m \u001b[32m203.4/203.4 kB\u001b[0m \u001b[31m3.6 MB/s\u001b[0m eta \u001b[36m0:00:00\u001b[0m\n",
            "\u001b[?25hDownloading aiohttp-3.8.6-cp310-cp310-manylinux_2_17_x86_64.manylinux2014_x86_64.whl (1.0 MB)\n",
            "\u001b[2K   \u001b[90m━━━━━━━━━━━━━━━━━━━━━━━━━━━━━━━━━━━━━━━━\u001b[0m \u001b[32m1.0/1.0 MB\u001b[0m \u001b[31m20.2 MB/s\u001b[0m eta \u001b[36m0:00:00\u001b[0m\n",
            "\u001b[?25hDownloading Babel-2.9.1-py2.py3-none-any.whl (8.8 MB)\n",
            "\u001b[2K   \u001b[90m━━━━━━━━━━━━━━━━━━━━━━━━━━━━━━━━━━━━━━━━\u001b[0m \u001b[32m8.8/8.8 MB\u001b[0m \u001b[31m61.9 MB/s\u001b[0m eta \u001b[36m0:00:00\u001b[0m\n",
            "\u001b[?25hInstalling collected packages: Babel, aiohttp, aiogram\n",
            "  Attempting uninstall: Babel\n",
            "    Found existing installation: babel 2.16.0\n",
            "    Uninstalling babel-2.16.0:\n",
            "      Successfully uninstalled babel-2.16.0\n",
            "  Attempting uninstall: aiohttp\n",
            "    Found existing installation: aiohttp 3.10.11\n",
            "    Uninstalling aiohttp-3.10.11:\n",
            "      Successfully uninstalled aiohttp-3.10.11\n",
            "  Attempting uninstall: aiogram\n",
            "    Found existing installation: aiogram 3.15.0\n",
            "    Uninstalling aiogram-3.15.0:\n",
            "      Successfully uninstalled aiogram-3.15.0\n",
            "\u001b[31mERROR: pip's dependency resolver does not currently take into account all the packages that are installed. This behaviour is the source of the following dependency conflicts.\n",
            "gcsfs 2024.10.0 requires fsspec==2024.10.0, but you have fsspec 2024.9.0 which is incompatible.\n",
            "sphinx 8.1.3 requires babel>=2.13, but you have babel 2.9.1 which is incompatible.\u001b[0m\u001b[31m\n",
            "\u001b[0mSuccessfully installed Babel-2.9.1 aiogram-2.25.1 aiohttp-3.8.6\n"
          ]
        }
      ],
      "source": [
        "pip install aiogram==2.25.1"
      ]
    },
    {
      "cell_type": "code",
      "execution_count": null,
      "metadata": {
        "id": "W2iSMW7mP-CU"
      },
      "outputs": [],
      "source": [
        "from transformers import AutoImageProcessor, ViTForImageClassification, AutoModelForCausalLM, AutoTokenizer, AutoModelForSeq2SeqLM\n",
        "import torch"
      ]
    },
    {
      "cell_type": "code",
      "execution_count": null,
      "metadata": {
        "id": "sn_GhKqSQ16o"
      },
      "outputs": [],
      "source": [
        "from PIL import Image\n",
        "import requests"
      ]
    },
    {
      "cell_type": "code",
      "execution_count": null,
      "metadata": {
        "colab": {
          "base_uri": "https://localhost:8080/"
        },
        "id": "jGQew_L787oi",
        "outputId": "932be872-936f-4c22-a305-6dc819fdf343"
      },
      "outputs": [
        {
          "name": "stdout",
          "output_type": "stream",
          "text": [
            "Requirement already satisfied: aiogram in /usr/local/lib/python3.10/dist-packages (2.25.1)\n",
            "Requirement already satisfied: pillow in /usr/local/lib/python3.10/dist-packages (11.0.0)\n",
            "Requirement already satisfied: aiohttp<3.9.0,>=3.8.0 in /usr/local/lib/python3.10/dist-packages (from aiogram) (3.8.6)\n",
            "Requirement already satisfied: Babel<2.10.0,>=2.9.1 in /usr/local/lib/python3.10/dist-packages (from aiogram) (2.9.1)\n",
            "Requirement already satisfied: certifi>=2021.10.8 in /usr/local/lib/python3.10/dist-packages (from aiogram) (2024.12.14)\n",
            "Requirement already satisfied: magic-filter>=1.0.9 in /usr/local/lib/python3.10/dist-packages (from aiogram) (1.0.12)\n",
            "Requirement already satisfied: attrs>=17.3.0 in /usr/local/lib/python3.10/dist-packages (from aiohttp<3.9.0,>=3.8.0->aiogram) (24.3.0)\n",
            "Requirement already satisfied: charset-normalizer<4.0,>=2.0 in /usr/local/lib/python3.10/dist-packages (from aiohttp<3.9.0,>=3.8.0->aiogram) (3.4.0)\n",
            "Requirement already satisfied: multidict<7.0,>=4.5 in /usr/local/lib/python3.10/dist-packages (from aiohttp<3.9.0,>=3.8.0->aiogram) (6.1.0)\n",
            "Requirement already satisfied: async-timeout<5.0,>=4.0.0a3 in /usr/local/lib/python3.10/dist-packages (from aiohttp<3.9.0,>=3.8.0->aiogram) (4.0.3)\n",
            "Requirement already satisfied: yarl<2.0,>=1.0 in /usr/local/lib/python3.10/dist-packages (from aiohttp<3.9.0,>=3.8.0->aiogram) (1.18.3)\n",
            "Requirement already satisfied: frozenlist>=1.1.1 in /usr/local/lib/python3.10/dist-packages (from aiohttp<3.9.0,>=3.8.0->aiogram) (1.5.0)\n",
            "Requirement already satisfied: aiosignal>=1.1.2 in /usr/local/lib/python3.10/dist-packages (from aiohttp<3.9.0,>=3.8.0->aiogram) (1.3.2)\n",
            "Requirement already satisfied: pytz>=2015.7 in /usr/local/lib/python3.10/dist-packages (from Babel<2.10.0,>=2.9.1->aiogram) (2024.2)\n",
            "Requirement already satisfied: typing-extensions>=4.1.0 in /usr/local/lib/python3.10/dist-packages (from multidict<7.0,>=4.5->aiohttp<3.9.0,>=3.8.0->aiogram) (4.12.2)\n",
            "Requirement already satisfied: idna>=2.0 in /usr/local/lib/python3.10/dist-packages (from yarl<2.0,>=1.0->aiohttp<3.9.0,>=3.8.0->aiogram) (3.10)\n",
            "Requirement already satisfied: propcache>=0.2.0 in /usr/local/lib/python3.10/dist-packages (from yarl<2.0,>=1.0->aiohttp<3.9.0,>=3.8.0->aiogram) (0.2.1)\n"
          ]
        }
      ],
      "source": [
        "pip install aiogram pillow"
      ]
    },
    {
      "cell_type": "markdown",
      "metadata": {
        "id": "pZcwNCOT1H2q"
      },
      "source": [
        "## Модели"
      ]
    },
    {
      "cell_type": "code",
      "execution_count": null,
      "metadata": {
        "colab": {
          "base_uri": "https://localhost:8080/",
          "height": 705
        },
        "id": "j9jZXPQ1UBd1",
        "outputId": "edab996d-ef52-47b1-ab30-7584e843acb1"
      },
      "outputs": [
        {
          "name": "stderr",
          "output_type": "stream",
          "text": [
            "/usr/local/lib/python3.10/dist-packages/huggingface_hub/utils/_auth.py:94: UserWarning: \n",
            "The secret `HF_TOKEN` does not exist in your Colab secrets.\n",
            "To authenticate with the Hugging Face Hub, create a token in your settings tab (https://huggingface.co/settings/tokens), set it as secret in your Google Colab and restart your session.\n",
            "You will be able to reuse this secret in all of your notebooks.\n",
            "Please note that authentication is recommended but still optional to access public models or datasets.\n",
            "  warnings.warn(\n"
          ]
        },
        {
          "data": {
            "application/vnd.jupyter.widget-view+json": {
              "model_id": "90d86cb9df214f57b019c57b1e441476",
              "version_major": 2,
              "version_minor": 0
            },
            "text/plain": [
              "config.json:   0%|          | 0.00/319 [00:00<?, ?B/s]"
            ]
          },
          "metadata": {},
          "output_type": "display_data"
        },
        {
          "data": {
            "application/vnd.jupyter.widget-view+json": {
              "model_id": "cb3d25b34cba4e269f1e5dd62850d277",
              "version_major": 2,
              "version_minor": 0
            },
            "text/plain": [
              "configuration_moondream.py:   0%|          | 0.00/3.34k [00:00<?, ?B/s]"
            ]
          },
          "metadata": {},
          "output_type": "display_data"
        },
        {
          "data": {
            "application/vnd.jupyter.widget-view+json": {
              "model_id": "86a48d5fccd24e5bb3831550e100e139",
              "version_major": 2,
              "version_minor": 0
            },
            "text/plain": [
              "moondream.py:   0%|          | 0.00/7.20k [00:00<?, ?B/s]"
            ]
          },
          "metadata": {},
          "output_type": "display_data"
        },
        {
          "data": {
            "application/vnd.jupyter.widget-view+json": {
              "model_id": "25455e91a388446e925fd67c59d27101",
              "version_major": 2,
              "version_minor": 0
            },
            "text/plain": [
              "vision_encoder.py:   0%|          | 0.00/10.2k [00:00<?, ?B/s]"
            ]
          },
          "metadata": {},
          "output_type": "display_data"
        },
        {
          "data": {
            "application/vnd.jupyter.widget-view+json": {
              "model_id": "c2324891adb6401d8ddfcb369b706a2d",
              "version_major": 2,
              "version_minor": 0
            },
            "text/plain": [
              "modeling_phi.py:   0%|          | 0.00/63.1k [00:00<?, ?B/s]"
            ]
          },
          "metadata": {},
          "output_type": "display_data"
        },
        {
          "data": {
            "application/vnd.jupyter.widget-view+json": {
              "model_id": "86fdf039e7d74956b7120a0d5a2040bc",
              "version_major": 2,
              "version_minor": 0
            },
            "text/plain": [
              "region_model.py:   0%|          | 0.00/1.33k [00:00<?, ?B/s]"
            ]
          },
          "metadata": {},
          "output_type": "display_data"
        },
        {
          "data": {
            "application/vnd.jupyter.widget-view+json": {
              "model_id": "bbdedf2d8e554ca4920263ee20554652",
              "version_major": 2,
              "version_minor": 0
            },
            "text/plain": [
              "fourier_features.py:   0%|          | 0.00/558 [00:00<?, ?B/s]"
            ]
          },
          "metadata": {},
          "output_type": "display_data"
        },
        {
          "data": {
            "application/vnd.jupyter.widget-view+json": {
              "model_id": "9affa8fbc423454cb0b8a37ee5feda01",
              "version_major": 2,
              "version_minor": 0
            },
            "text/plain": [
              "model.safetensors:   0%|          | 0.00/3.74G [00:00<?, ?B/s]"
            ]
          },
          "metadata": {},
          "output_type": "display_data"
        },
        {
          "name": "stderr",
          "output_type": "stream",
          "text": [
            "PhiForCausalLM has generative capabilities, as `prepare_inputs_for_generation` is explicitly overwritten. However, it doesn't directly inherit from `GenerationMixin`. From 👉v4.50👈 onwards, `PreTrainedModel` will NOT inherit from `GenerationMixin`, and this model will lose the ability to call `generate` and other related functions.\n",
            "  - If you're using `trust_remote_code=True`, you can get rid of this warning by loading the model with an auto class. See https://huggingface.co/docs/transformers/en/model_doc/auto#auto-classes\n",
            "  - If you are the owner of the model architecture code, please modify your model class such that it inherits from `GenerationMixin` (after `PreTrainedModel`, otherwise you'll get an exception).\n",
            "  - If you are not the owner of the model architecture class, please contact the model code owner to update it.\n"
          ]
        },
        {
          "data": {
            "application/vnd.jupyter.widget-view+json": {
              "model_id": "d3c30894ac08499ebe7901e9bd31a91b",
              "version_major": 2,
              "version_minor": 0
            },
            "text/plain": [
              "generation_config.json:   0%|          | 0.00/111 [00:00<?, ?B/s]"
            ]
          },
          "metadata": {},
          "output_type": "display_data"
        },
        {
          "data": {
            "application/vnd.jupyter.widget-view+json": {
              "model_id": "cf300dbc5f22448aa5376ce5b22f921b",
              "version_major": 2,
              "version_minor": 0
            },
            "text/plain": [
              "tokenizer_config.json:   0%|          | 0.00/7.34k [00:00<?, ?B/s]"
            ]
          },
          "metadata": {},
          "output_type": "display_data"
        },
        {
          "data": {
            "application/vnd.jupyter.widget-view+json": {
              "model_id": "d8576b3a49e34035b2c35548fa84d1b9",
              "version_major": 2,
              "version_minor": 0
            },
            "text/plain": [
              "vocab.json:   0%|          | 0.00/798k [00:00<?, ?B/s]"
            ]
          },
          "metadata": {},
          "output_type": "display_data"
        },
        {
          "data": {
            "application/vnd.jupyter.widget-view+json": {
              "model_id": "a76772af6a0240729907e29c82008542",
              "version_major": 2,
              "version_minor": 0
            },
            "text/plain": [
              "merges.txt:   0%|          | 0.00/456k [00:00<?, ?B/s]"
            ]
          },
          "metadata": {},
          "output_type": "display_data"
        },
        {
          "data": {
            "application/vnd.jupyter.widget-view+json": {
              "model_id": "18aeba4a371b42ac8e0e576bdaa71348",
              "version_major": 2,
              "version_minor": 0
            },
            "text/plain": [
              "tokenizer.json:   0%|          | 0.00/2.11M [00:00<?, ?B/s]"
            ]
          },
          "metadata": {},
          "output_type": "display_data"
        },
        {
          "data": {
            "application/vnd.jupyter.widget-view+json": {
              "model_id": "b2ccd87116f34ba28c138fc183e7112b",
              "version_major": 2,
              "version_minor": 0
            },
            "text/plain": [
              "added_tokens.json:   0%|          | 0.00/1.08k [00:00<?, ?B/s]"
            ]
          },
          "metadata": {},
          "output_type": "display_data"
        },
        {
          "data": {
            "application/vnd.jupyter.widget-view+json": {
              "model_id": "32ed247802044dac819594e9bfe99575",
              "version_major": 2,
              "version_minor": 0
            },
            "text/plain": [
              "special_tokens_map.json:   0%|          | 0.00/99.0 [00:00<?, ?B/s]"
            ]
          },
          "metadata": {},
          "output_type": "display_data"
        }
      ],
      "source": [
        "# модель описание по фото\n",
        "model_id = \"vikhyatk/moondream2\"\n",
        "revision = \"2024-08-26\"\n",
        "model2 = AutoModelForCausalLM.from_pretrained(\n",
        "    model_id, trust_remote_code=True, revision=revision\n",
        ")\n",
        "tokenizer2 = AutoTokenizer.from_pretrained(model_id, revision=revision)"
      ]
    },
    {
      "cell_type": "code",
      "execution_count": null,
      "metadata": {
        "colab": {
          "base_uri": "https://localhost:8080/",
          "height": 113
        },
        "id": "K-g7GBjMO-_X",
        "outputId": "3240b12f-e3ad-4cff-8de2-4560aeb3f884"
      },
      "outputs": [
        {
          "data": {
            "application/vnd.jupyter.widget-view+json": {
              "model_id": "464c5f092852401cb7b5a594427f216b",
              "version_major": 2,
              "version_minor": 0
            },
            "text/plain": [
              "preprocessor_config.json:   0%|          | 0.00/228 [00:00<?, ?B/s]"
            ]
          },
          "metadata": {},
          "output_type": "display_data"
        },
        {
          "data": {
            "application/vnd.jupyter.widget-view+json": {
              "model_id": "4e46c1fd42184e7c98c8f183f4b8e566",
              "version_major": 2,
              "version_minor": 0
            },
            "text/plain": [
              "config.json:   0%|          | 0.00/5.58k [00:00<?, ?B/s]"
            ]
          },
          "metadata": {},
          "output_type": "display_data"
        },
        {
          "data": {
            "application/vnd.jupyter.widget-view+json": {
              "model_id": "a8c9948878f441ae9dd362e82d9b1489",
              "version_major": 2,
              "version_minor": 0
            },
            "text/plain": [
              "pytorch_model.bin:   0%|          | 0.00/344M [00:00<?, ?B/s]"
            ]
          },
          "metadata": {},
          "output_type": "display_data"
        }
      ],
      "source": [
        "# модель классификатор еды\n",
        "\n",
        "image_processor = AutoImageProcessor.from_pretrained(\"nateraw/food\")\n",
        "model1 = ViTForImageClassification.from_pretrained(\"nateraw/food\")"
      ]
    },
    {
      "cell_type": "code",
      "execution_count": null,
      "metadata": {
        "colab": {
          "base_uri": "https://localhost:8080/",
          "height": 241
        },
        "id": "9c97Jq8Ji191",
        "outputId": "905f8793-d886-4f92-ad76-7c8d2e36ebee"
      },
      "outputs": [
        {
          "data": {
            "application/vnd.jupyter.widget-view+json": {
              "model_id": "9b21a0a7bc424c55afa87d94e829c9dd",
              "version_major": 2,
              "version_minor": 0
            },
            "text/plain": [
              "tokenizer_config.json:   0%|          | 0.00/42.0 [00:00<?, ?B/s]"
            ]
          },
          "metadata": {},
          "output_type": "display_data"
        },
        {
          "data": {
            "application/vnd.jupyter.widget-view+json": {
              "model_id": "9604e0b1230549a8919b22292b0261b2",
              "version_major": 2,
              "version_minor": 0
            },
            "text/plain": [
              "config.json:   0%|          | 0.00/1.38k [00:00<?, ?B/s]"
            ]
          },
          "metadata": {},
          "output_type": "display_data"
        },
        {
          "data": {
            "application/vnd.jupyter.widget-view+json": {
              "model_id": "b9bb2456a5644b5dada7b4f73ac4f903",
              "version_major": 2,
              "version_minor": 0
            },
            "text/plain": [
              "source.spm:   0%|          | 0.00/803k [00:00<?, ?B/s]"
            ]
          },
          "metadata": {},
          "output_type": "display_data"
        },
        {
          "data": {
            "application/vnd.jupyter.widget-view+json": {
              "model_id": "f71149866d644675b7813379e171f40c",
              "version_major": 2,
              "version_minor": 0
            },
            "text/plain": [
              "target.spm:   0%|          | 0.00/1.08M [00:00<?, ?B/s]"
            ]
          },
          "metadata": {},
          "output_type": "display_data"
        },
        {
          "data": {
            "application/vnd.jupyter.widget-view+json": {
              "model_id": "ab3e8195f6b44cb98bf7a6755573dae0",
              "version_major": 2,
              "version_minor": 0
            },
            "text/plain": [
              "vocab.json:   0%|          | 0.00/2.60M [00:00<?, ?B/s]"
            ]
          },
          "metadata": {},
          "output_type": "display_data"
        },
        {
          "data": {
            "application/vnd.jupyter.widget-view+json": {
              "model_id": "a1597f9d4d7b463686559f84422d3afc",
              "version_major": 2,
              "version_minor": 0
            },
            "text/plain": [
              "pytorch_model.bin:   0%|          | 0.00/307M [00:00<?, ?B/s]"
            ]
          },
          "metadata": {},
          "output_type": "display_data"
        },
        {
          "data": {
            "application/vnd.jupyter.widget-view+json": {
              "model_id": "b826e92f31f94ddab0ee02433c8cf120",
              "version_major": 2,
              "version_minor": 0
            },
            "text/plain": [
              "generation_config.json:   0%|          | 0.00/293 [00:00<?, ?B/s]"
            ]
          },
          "metadata": {},
          "output_type": "display_data"
        }
      ],
      "source": [
        "# модель-переводчик\n",
        "\n",
        "tokenizer3 = AutoTokenizer.from_pretrained(\"Helsinki-NLP/opus-mt-en-ru\")\n",
        "\n",
        "model3 = AutoModelForSeq2SeqLM.from_pretrained(\"Helsinki-NLP/opus-mt-en-ru\")"
      ]
    },
    {
      "cell_type": "markdown",
      "metadata": {
        "id": "VE3ZB8Tg15qX"
      },
      "source": [
        "## Словари"
      ]
    },
    {
      "cell_type": "code",
      "execution_count": null,
      "metadata": {
        "id": "JU-D6_GHjUAX"
      },
      "outputs": [],
      "source": [
        "# перевод словаря id2label на русский\n",
        "rus_id2label={\n",
        " 0: 'яблочный пирог',\n",
        " 1: 'свиные ребрышки',\n",
        " 10: 'брускетта',\n",
        " 100: 'вафли',\n",
        " 11: 'салат \"Цезарь\"',\n",
        " 12: 'сладкий блинчик',\n",
        " 13: 'салат \"Капрезе\"',\n",
        " 14: 'морковный торт',\n",
        " 15: 'маринованная рыба',\n",
        " 16: 'сырная тарелка',\n",
        " 17: 'чизкейк',\n",
        " 18: 'курица карри',\n",
        " 19: 'куриная кесадилья',\n",
        " 2: 'баклава',\n",
        " 20: 'куриные крылья',\n",
        " 21: 'шоколадный торт',\n",
        " 22: 'шоколадный мусс',\n",
        " 23: 'чуррос',\n",
        " 24: 'крем-суп из моллюсков',\n",
        " 25: 'сэндвич',\n",
        " 26: 'крабовый торт',\n",
        " 27: 'крем-брюле',\n",
        " 28: 'cэндвич с яйцом',\n",
        " 29: 'кексы',\n",
        " 3: 'говяжий карпаччо',\n",
        " 30: 'запеченные яйца',\n",
        " 31: 'донаты',\n",
        " 32: 'пельмени',\n",
        " 33: 'соевые бобы',\n",
        " 34: 'яичница \"Бенедикт\"',\n",
        " 35: 'улитки с вином',\n",
        " 36: 'фалафель',\n",
        " 37: 'филе миньон',\n",
        " 38: 'рыба с картофелем фри',\n",
        " 39: 'фуа-гра',\n",
        " 4: 'говяжий тартар',\n",
        " 40: 'картофель фри',\n",
        " 41: 'луковый суп',\n",
        " 42: 'французский тост',\n",
        " 43: 'кальмар фри',\n",
        " 44: 'жареный рис',\n",
        " 45: 'йогуртовое мороженое',\n",
        " 46: 'чесночный хлеб',\n",
        " 47: 'клецки',\n",
        " 48: 'греческий салат',\n",
        " 49: 'гриль-сырный сэндвич',\n",
        " 5: 'салат из свеклы',\n",
        " 50: 'гриль-лосось',\n",
        " 51: 'гуакамоле',\n",
        " 52: 'китайские пельмени с мясом и овощами',\n",
        " 53: 'гамбургер',\n",
        " 54: 'остро-кислый суп',\n",
        " 55: 'хот-дог',\n",
        " 56: 'яйца на тортилье',\n",
        " 57: 'хумус',\n",
        " 58: 'мороженое',\n",
        " 59: 'лазанья',\n",
        " 6: 'пончики',\n",
        " 60: 'лобстеровый суп',\n",
        " 61: 'лобстер-ролл',\n",
        " 62: 'макароны с сыром',\n",
        " 63: 'макарон',\n",
        " 64: 'суп мисо',\n",
        " 65: 'мидии',\n",
        " 66: 'начос',\n",
        " 67: 'омлет',\n",
        " 68: 'луковые кольца',\n",
        " 69: 'устрицы',\n",
        " 7: 'поке',\n",
        " 70: 'рисовая лапша с овощами',\n",
        " 71: 'паэлья',\n",
        " 72: 'блины',\n",
        " 73: 'панна котта',\n",
        " 74: 'пекинская утка',\n",
        " 75: 'фо бо',\n",
        " 76: 'пицца',\n",
        " 77: 'свиная отбивная',\n",
        " 78: 'картофель фри с сыром',\n",
        " 79: 'копченая вырезка',\n",
        " 8: 'хлебный пудинг',\n",
        " 80: 'сэндвич с жареной свининой',\n",
        " 81: 'рамэн',\n",
        " 82: 'равиоли',\n",
        " 83: 'торт \"Красный бархат\"',\n",
        " 84: 'ризотто',\n",
        " 85: 'эчпочмак',\n",
        " 86: 'рыбная нарезка',\n",
        " 87: 'морепродукты',\n",
        " 88: 'салат из морских водорослей',\n",
        " 89: 'креветки с кукурузной кашей',\n",
        " 9: 'завтрак-буррито',\n",
        " 90: 'спагетти болоньезе',\n",
        " 91: 'спагетти карбонара',\n",
        " 92: 'тайские голубцы',\n",
        " 93: 'стейк',\n",
        " 94: 'земляничный корж',\n",
        " 95: 'суши',\n",
        " 96: 'тако',\n",
        " 97: 'такояки',\n",
        " 98: 'тирамису',\n",
        " 99: 'говяжий тартар'\n",
        "}"
      ]
    },
    {
      "cell_type": "code",
      "execution_count": null,
      "metadata": {
        "id": "q2q1KlHznsnV"
      },
      "outputs": [],
      "source": [
        "# словарь с калориями\n",
        "rus_label2cal = {\n",
        "    'яблочный пирог': [237,2.1,9.6,37.3],\n",
        "    'свиные ребрышки': [510,32,39,0],\n",
        "    'брускетта': [147,4.7,10,10.4],\n",
        "    'вафли': [82,1.2,3.3,12],\n",
        "    'салат \"Цезарь\"': [360,25,25,9],\n",
        "    'сладкий блинчик': [186,4.3,7.2,27.4],\n",
        "    'салат \"Капрезе\"': [220,6,18,7],\n",
        "    'морковный торт': [330,4,17,42],\n",
        "    'маринованная рыба': [120,20,3,2],\n",
        "    'сырная тарелка': [400,25,30,5],\n",
        "    'чизкейк': [320,8,21,32],\n",
        "    'курица карри': [420,26,14,34],\n",
        "    'куриная кесадилья': [412,27,13,36],\n",
        "    'баклава': [267,3,11,29],\n",
        "    'куриные крылья': [103,8,7,0],\n",
        "    'шоколадный торт': [318,7,17,31],\n",
        "    'шоколадный мусс': [378,5,22,39],\n",
        "    'чуррос': [147,3,7,24],\n",
        "    'крем-суп из моллюсков': [264,14,18,17],\n",
        "    'сэндвич': [378,23,13,37],\n",
        "    'крабовый торт': [312,14,17,18],\n",
        "    'крем-брюле': [373,5,24,40],\n",
        "    'cэндвич с яйцом': [421,24,17,39],\n",
        "    'кексы': [201,4,7,23],\n",
        "    'говяжий карпаччо': [162,17, 8,2],\n",
        "    'запеченные яйца': [167,14,12,3],\n",
        "    'донаты': [384,7,18,37],\n",
        "    'пельмени': [347,18,11,38],\n",
        "    'соевые бобы': [118,8,3,18],\n",
        "    'яичница \"Бенедикт\"': [246,16,14,5],\n",
        "    'улитки с вином': [216,14, 8,7],\n",
        "    'фалафель': [267,8,17,28],\n",
        "    'филе миньон': [481,29,21,3],\n",
        "    'рыба с картофелем фри': [538,27,26,59],\n",
        "    'фуа-гра': [378,23,22,3],\n",
        "    'говяжий тартар': [363,23,21,4],\n",
        "    'картофель фри': [371,4,17,37],\n",
        "    'луковый суп': [237,4,7,26],\n",
        "    'французский тост': [371, 8, 14,36],\n",
        "    'кальмар фри': [369,23,18,17],\n",
        "    'жареный рис': [382,5,8,47],\n",
        "    'йогуртовое мороженое': [237,4,8,27],\n",
        "    'чесночный хлеб': [175,4,5,24],\n",
        "    'клецки': [281,8,7,39],\n",
        "    'греческий салат': [276,8,14,19],\n",
        "    'гриль-сырный сэндвич': [486,24,22,37],\n",
        "    'салат из свеклы': [376,5,8,16],\n",
        "    'гриль-лосось': [365,27,24,4],\n",
        "    'гуакамоле': [187,4,14,17],\n",
        "    'китайские пельмени с мясом и овощами': [187,8,6,16],\n",
        "    'гамбургер': [475,27,23,37],\n",
        "    'остро-кислый суп': [241,9,8,27],\n",
        "    'хот-дог': [458,17,23,37],\n",
        "    'яйца на тортилье': [280,12,14,8],\n",
        "    'хумус': [180,3,7,17],\n",
        "    'мороженое': [213,6,15,38],\n",
        "    'лазанья': [495,17,23,36],\n",
        "    'пончики': [286,7,14,30],\n",
        "    'лобстеровый суп': [385,18,17,20],\n",
        "    'лобстер-ролл': [473,24,20,37],\n",
        "    'макароны с сыром': [480,14,19,42],\n",
        "    'макарон': [97,1,5,14],\n",
        "    'суп мисо': [240,7,8,26],\n",
        "    'мидии': [216,22,8,11],\n",
        "    'начос': [646,23,38,76],\n",
        "    'омлет': [290,18,17,4],\n",
        "    'луковые кольца': [268,4,22,31],\n",
        "    'устрицы': [186,16,4,4],\n",
        "    'поке': [580,22,19,65],\n",
        "    'рисовая лапша с овощами': [445,16,19,48],\n",
        "    'паэлья': [583,20,17,63],\n",
        "    'блины': [176, 4,7,27],\n",
        "    'панна котта': [296,5,18,27],\n",
        "    'пекинская утка': [478,27,26,4],\n",
        "    'фо бо': [468,23,19,48],\n",
        "    'пицца': [370,8,17,36],\n",
        "    'свиная отбивная': [580,26,28,3],\n",
        "    'картофель фри с сыром': [390,17,16,35],\n",
        "    'копченая вырезка': [484,28,27,3],\n",
        "    'хлебный пудинг': [375,9,18,46],\n",
        "    'сэндвич с жареной свининой': [586,28,29,37],\n",
        "    'рамэн': [460,17,18,46],\n",
        "    'равиоли': [462,13,21,43],\n",
        "    'торт \"Красный бархат\"': [367,5,20,47],\n",
        "    'ризотто': [482,7,19,57],\n",
        "    'эчпочмак': [340,13,18,37],\n",
        "    'рыбная нарезка': [376,24,17,4],\n",
        "    'морепродукты': [248,14,8,7],\n",
        "    'салат из морских водорослей': [185,7,9,16],\n",
        "    'креветки с кукурузной кашей': [486,23,16,48],\n",
        "    'завтрак-буррито': [518,22,28,46],\n",
        "    'спагетти болоньезе': [447,17,18,45],\n",
        "    'спагетти карбонара': [560,22,26,42],\n",
        "    'тайские голубцы': [180,7,5,17],\n",
        "    'стейк': [312,19, 21, 0],\n",
        "    'земляничный корж': [317,5,13,43],\n",
        "    'суши': [317,8,7,46],\n",
        "    'тако': [269,8,13,26],\n",
        "    'такояки': [169,4,9,18],\n",
        "    'тирамису': [393,5,18,37],\n",
        "    'говяжий тартар': [317,20,16,3]\n",
        "}"
      ]
    },
    {
      "cell_type": "code",
      "execution_count": null,
      "metadata": {
        "id": "SQIfhlOumURN"
      },
      "outputs": [],
      "source": [
        "# выделяем индексы еды, которую едят по несколько кусочков\n",
        "portion_list=[0, 10, 100, 12, 14,17,20,21,25,29,31,46,6,63]"
      ]
    },
    {
      "cell_type": "markdown",
      "metadata": {
        "id": "o2AMh8sV1sry"
      },
      "source": [
        "## Функции"
      ]
    },
    {
      "cell_type": "code",
      "execution_count": null,
      "metadata": {
        "id": "IwoAcrtR2H8U"
      },
      "outputs": [],
      "source": [
        "def calories(url):\n",
        "  image = Image.open(requests.get(url, stream=True).raw)\n",
        "  enc_image = model2.encode_image(image)\n",
        "\n",
        "  inputs = image_processor(image, return_tensors=\"pt\")\n",
        "  with torch.no_grad():\n",
        "      logits = model1(**inputs).logits\n",
        "\n",
        "  predicted_label = logits.argmax(-1).item()\n",
        "\n",
        "  #для категорий еды, которую едят по несколько кусочков делаем доп проверку\n",
        "  coef=1\n",
        "  if predicted_label in portion_list:\n",
        "    prompt=f\"how many {model1.config.id2label[predicted_label]} pieces are there in picture. Give me a number\"\n",
        "    num=model2.answer_question(enc_image, prompt, tokenizer2)\n",
        "    try:\n",
        "      coef=int(num)\n",
        "    except ValueError:\n",
        "      pass\n",
        "\n",
        "  predicted_meal=rus_id2label[predicted_label]\n",
        "  PFC=rus_label2cal[predicted_meal]\n",
        "  reply=f'Скорее всего, вы едите {rus_id2label[predicted_label]}. В этом блюде {coef*PFC[0]} ккал, {coef*PFC[1]} грамм белков, {coef*PFC[2]} грамм жиров и {coef*PFC[3]} грамм углеводов.'\n",
        "\n",
        "  return reply"
      ]
    },
    {
      "cell_type": "code",
      "execution_count": null,
      "metadata": {
        "id": "eE7t4SwU2xbd"
      },
      "outputs": [],
      "source": [
        "def advice(url):\n",
        "    image = Image.open(requests.get(url, stream=True).raw)\n",
        "    enc_image = model2.encode_image(image)\n",
        "    advice=(model2.answer_question(enc_image, \"Act like nutriciolog. What additional elements could you recommend to balance out this meal? Please ensure that the suggested additions complement the existing meal.\", tokenizer2))\n",
        "    # Токенизация входного текста\n",
        "    input_ids = tokenizer3(advice, return_tensors=\"pt\").input_ids\n",
        "    # Перевод текста\n",
        "    outputs = model3.generate(input_ids)\n",
        "    rus_advice = tokenizer3.decode(outputs[0], skip_special_tokens=True)\n",
        "\n",
        "    return rus_advice"
      ]
    },
    {
      "cell_type": "code",
      "execution_count": null,
      "metadata": {
        "id": "9vys9pT7TWyb"
      },
      "outputs": [],
      "source": [
        "import re\n",
        "\n",
        "def process_and_save_calories(user_id, today, url):\n",
        "    \"\"\"\n",
        "    Обрабатывает изображение, извлекает данные о калориях и БЖУ,\n",
        "    и сохраняет их в таблицу DailyIntake.\n",
        "    \"\"\"\n",
        "    # Вызов функции `calories` для получения текста результата\n",
        "    reply = calories(url)\n",
        "\n",
        "    # Регулярное выражение для извлечения чисел из строки\n",
        "    match = re.search(r'(\\d+)\\s*ккал.*?(\\d+)\\s*грамм белков.*?(\\d+)\\s*грамм жиров.*?(\\d+)\\s*грамм углеводов', reply)\n",
        "    if match:\n",
        "        calories_value = int(match.group(1))\n",
        "        protein_value = int(match.group(2))\n",
        "        fat_value = int(match.group(3))\n",
        "        carbs_value = int(match.group(4))\n",
        "\n",
        "        # Обновление данных в таблице `DailyIntake`\n",
        "        update_daily_intake(user_id, today, calories_value, protein_value, fat_value, carbs_value)\n",
        "\n",
        "        return f\"Данные добавлены:\\nКалории: {calories_value}, Белки: {protein_value}, Жиры: {fat_value}, Углеводы: {carbs_value}\"\n",
        "    else:\n",
        "        return \"Не удалось распознать данные о калориях и БЖУ. Попробуйте снова.\"\n"
      ]
    },
    {
      "cell_type": "code",
      "execution_count": null,
      "metadata": {
        "id": "nrLwK6KGjpF1"
      },
      "outputs": [],
      "source": [
        "from PIL import Image, ImageDraw, ImageFont\n",
        "import requests\n",
        "from io import BytesIO\n",
        "\n",
        "def create_progress_image(max_cal, max_prot, max_fat, max_carb,\n",
        "                          curr_cal, curr_prot, curr_fat, curr_carb):\n",
        "    # Размер изображения\n",
        "    width, height = 600, 400\n",
        "\n",
        "    # Загрузка фонового изображения\n",
        "    try:\n",
        "        response = requests.get(\"https://www.helpguide.org/wp-content/uploads/2023/02/Choosing-Healthy-Fats.jpeg\")\n",
        "        background_img = Image.open(BytesIO(response.content)).convert(\"RGB\")\n",
        "        background_img = background_img.resize((width, height))\n",
        "    except Exception as e:\n",
        "        raise RuntimeError(f\"Error loading background image: {e}\")\n",
        "\n",
        "    # Создание нового изображения поверх фона\n",
        "    img = background_img.copy()\n",
        "    draw = ImageDraw.Draw(img)\n",
        "\n",
        "    # Подключение шрифта с поддержкой кириллицы\n",
        "    try:\n",
        "        font = ImageFont.truetype(\"DejaVuSans.ttf\", size=148)  # Увеличение размера шрифта\n",
        "    except IOError:\n",
        "        try:\n",
        "            # Альтернативный вариант: скачать шрифт из сети\n",
        "            response = requests.get(\"https://github.com/dejavu-fonts/dejavu-fonts/raw/version_2_37/ttf/DejaVuSans.ttf\")\n",
        "            font = ImageFont.truetype(BytesIO(response.content), size=148, encoding='UTF-8')\n",
        "        except Exception:\n",
        "            # Если ничего не получилось, используем стандартный шрифт\n",
        "            font = ImageFont.load_default()\n",
        "\n",
        "    # Рисуем текст \"Your Progress\" сверху по центру\n",
        "    draw.text((width // 2-100, 10), \"Your Progress\", font=ImageFont.load_default(size=30), fill=(255, 0, 0))\n",
        "\n",
        "    # Цвета и прогресс-бары\n",
        "    bar_color = (0, 0, 255)  # Синий для прогресса\n",
        "    background_color = (211, 211, 211)  # Серый для фона баров\n",
        "\n",
        "    # Коэффициенты для прогресса\n",
        "    def calc_width(current, maximum):\n",
        "        return int((current / maximum) * (width - 50)) if maximum > 0 else 0\n",
        "\n",
        "    # Прогресс-бары\n",
        "    bars = [\n",
        "        (\"Calories\", curr_cal, max_cal),\n",
        "        (\"Protein\", curr_prot, max_prot),\n",
        "        (\"Fat\", curr_fat, max_fat),\n",
        "        (\"Carbs\", curr_carb, max_carb)\n",
        "    ]\n",
        "    y_offset = 100\n",
        "    for label, current, maximum in bars:\n",
        "        draw.text((20, y_offset - 20), f\"{label}: {current}/{maximum}\", font=font, fill=(0, 0, 0))\n",
        "        draw.rectangle([20, y_offset, width - 20, y_offset + 30], fill=background_color)\n",
        "        draw.rectangle([20, y_offset, 20 + calc_width(current, maximum), y_offset + 30], fill=bar_color)\n",
        "        y_offset += 60\n",
        "\n",
        "    # Сохранение изображения\n",
        "    image_path = \"progress.png\"\n",
        "    img.save(image_path)\n",
        "    return image_path\n"
      ]
    },
    {
      "cell_type": "markdown",
      "metadata": {
        "id": "qpheVe650puA"
      },
      "source": [
        "## Бот"
      ]
    },
    {
      "cell_type": "code",
      "execution_count": null,
      "metadata": {
        "colab": {
          "background_save": true,
          "base_uri": "https://localhost:8080/"
        },
        "id": "4oIfUrNtfl0P",
        "outputId": "081023a8-8cfa-42f6-c06d-8b0e43feb9ef"
      },
      "outputs": [
        {
          "name": "stderr",
          "output_type": "stream",
          "text": [
            "WARNING:aiogram:Updates were skipped successfully.\n",
            "ERROR:asyncio:Task exception was never retrieved\n",
            "future: <Task finished name='Task-129' coro=<Dispatcher._process_polling_updates() done, defined at /usr/local/lib/python3.10/dist-packages/aiogram/dispatcher/dispatcher.py:407> exception=RuntimeError('Error loading background image: cannot identify image file <_io.BytesIO object at 0x7b00cf806160>')>\n",
            "Traceback (most recent call last):\n",
            "  File \"<ipython-input-19-4a7eeffa7abf>\", line 13, in create_progress_image\n",
            "    background_img = Image.open(BytesIO(response.content)).convert(\"RGB\")\n",
            "  File \"/usr/local/lib/python3.10/dist-packages/PIL/Image.py\", line 3536, in open\n",
            "    raise UnidentifiedImageError(msg)\n",
            "PIL.UnidentifiedImageError: cannot identify image file <_io.BytesIO object at 0x7b00cf806160>\n",
            "\n",
            "During handling of the above exception, another exception occurred:\n",
            "\n",
            "Traceback (most recent call last):\n",
            "  File \"/usr/lib/python3.10/asyncio/tasks.py\", line 234, in __step\n",
            "    result = coro.throw(exc)\n",
            "  File \"/usr/local/lib/python3.10/dist-packages/aiogram/dispatcher/dispatcher.py\", line 415, in _process_polling_updates\n",
            "    for responses in itertools.chain.from_iterable(await self.process_updates(updates, fast)):\n",
            "  File \"/usr/local/lib/python3.10/dist-packages/aiogram/dispatcher/dispatcher.py\", line 235, in process_updates\n",
            "    return await asyncio.gather(*tasks)\n",
            "  File \"/usr/lib/python3.10/asyncio/tasks.py\", line 304, in __wakeup\n",
            "    future.result()\n",
            "  File \"/usr/lib/python3.10/asyncio/tasks.py\", line 232, in __step\n",
            "    result = coro.send(None)\n",
            "  File \"/usr/local/lib/python3.10/dist-packages/aiogram/dispatcher/handler.py\", line 117, in notify\n",
            "    response = await handler_obj.handler(*args, **partial_data)\n",
            "  File \"/usr/local/lib/python3.10/dist-packages/aiogram/dispatcher/dispatcher.py\", line 256, in process_update\n",
            "    return await self.message_handlers.notify(update.message)\n",
            "  File \"/usr/local/lib/python3.10/dist-packages/aiogram/dispatcher/handler.py\", line 117, in notify\n",
            "    response = await handler_obj.handler(*args, **partial_data)\n",
            "  File \"<ipython-input-20-f6a2054950c6>\", line 375, in send_progress_image\n",
            "    image_path = create_progress_image(\n",
            "  File \"<ipython-input-19-4a7eeffa7abf>\", line 16, in create_progress_image\n",
            "    raise RuntimeError(f\"Error loading background image: {e}\")\n",
            "RuntimeError: Error loading background image: cannot identify image file <_io.BytesIO object at 0x7b00cf806160>\n",
            "ERROR:asyncio:Task exception was never retrieved\n",
            "future: <Task finished name='Task-136' coro=<Dispatcher._process_polling_updates() done, defined at /usr/local/lib/python3.10/dist-packages/aiogram/dispatcher/dispatcher.py:407> exception=RuntimeError('Error loading background image: cannot identify image file <_io.BytesIO object at 0x7b00cf488180>')>\n",
            "Traceback (most recent call last):\n",
            "  File \"<ipython-input-19-4a7eeffa7abf>\", line 13, in create_progress_image\n",
            "    background_img = Image.open(BytesIO(response.content)).convert(\"RGB\")\n",
            "  File \"/usr/local/lib/python3.10/dist-packages/PIL/Image.py\", line 3536, in open\n",
            "    raise UnidentifiedImageError(msg)\n",
            "PIL.UnidentifiedImageError: cannot identify image file <_io.BytesIO object at 0x7b00cf488180>\n",
            "\n",
            "During handling of the above exception, another exception occurred:\n",
            "\n",
            "Traceback (most recent call last):\n",
            "  File \"/usr/lib/python3.10/asyncio/tasks.py\", line 234, in __step\n",
            "    result = coro.throw(exc)\n",
            "  File \"/usr/local/lib/python3.10/dist-packages/aiogram/dispatcher/dispatcher.py\", line 415, in _process_polling_updates\n",
            "    for responses in itertools.chain.from_iterable(await self.process_updates(updates, fast)):\n",
            "  File \"/usr/local/lib/python3.10/dist-packages/aiogram/dispatcher/dispatcher.py\", line 235, in process_updates\n",
            "    return await asyncio.gather(*tasks)\n",
            "  File \"/usr/lib/python3.10/asyncio/tasks.py\", line 304, in __wakeup\n",
            "    future.result()\n",
            "  File \"/usr/lib/python3.10/asyncio/tasks.py\", line 232, in __step\n",
            "    result = coro.send(None)\n",
            "  File \"/usr/local/lib/python3.10/dist-packages/aiogram/dispatcher/handler.py\", line 117, in notify\n",
            "    response = await handler_obj.handler(*args, **partial_data)\n",
            "  File \"/usr/local/lib/python3.10/dist-packages/aiogram/dispatcher/dispatcher.py\", line 256, in process_update\n",
            "    return await self.message_handlers.notify(update.message)\n",
            "  File \"/usr/local/lib/python3.10/dist-packages/aiogram/dispatcher/handler.py\", line 117, in notify\n",
            "    response = await handler_obj.handler(*args, **partial_data)\n",
            "  File \"<ipython-input-20-f6a2054950c6>\", line 375, in send_progress_image\n",
            "    image_path = create_progress_image(\n",
            "  File \"<ipython-input-19-4a7eeffa7abf>\", line 16, in create_progress_image\n",
            "    raise RuntimeError(f\"Error loading background image: {e}\")\n",
            "RuntimeError: Error loading background image: cannot identify image file <_io.BytesIO object at 0x7b00cf488180>\n",
            "ERROR:aiogram.dispatcher.dispatcher:Cause exception while getting updates.\n",
            "Traceback (most recent call last):\n",
            "  File \"/usr/local/lib/python3.10/dist-packages/aiogram/bot/api.py\", line 139, in make_request\n",
            "    async with session.post(url, data=req, **kwargs) as response:\n",
            "  File \"/usr/local/lib/python3.10/dist-packages/aiohttp/client.py\", line 1167, in __aenter__\n",
            "    self._resp = await self._coro\n",
            "  File \"/usr/local/lib/python3.10/dist-packages/aiohttp/client.py\", line 586, in _request\n",
            "    await resp.start(conn)\n",
            "  File \"/usr/local/lib/python3.10/dist-packages/aiohttp/client_reqrep.py\", line 905, in start\n",
            "    message, payload = await protocol.read()  # type: ignore[union-attr]\n",
            "  File \"/usr/local/lib/python3.10/dist-packages/aiohttp/streams.py\", line 616, in read\n",
            "    await self._waiter\n",
            "  File \"/usr/lib/python3.10/asyncio/futures.py\", line 285, in __await__\n",
            "    yield self  # This tells Task to wait for completion.\n",
            "  File \"/usr/lib/python3.10/asyncio/tasks.py\", line 304, in __wakeup\n",
            "    future.result()\n",
            "  File \"/usr/lib/python3.10/asyncio/futures.py\", line 201, in result\n",
            "    raise self._exception.with_traceback(self._exception_tb)\n",
            "aiohttp.client_exceptions.ClientOSError: [Errno 104] Connection reset by peer\n",
            "\n",
            "During handling of the above exception, another exception occurred:\n",
            "\n",
            "Traceback (most recent call last):\n",
            "  File \"/usr/local/lib/python3.10/dist-packages/aiogram/dispatcher/dispatcher.py\", line 381, in start_polling\n",
            "    updates = await self.bot.get_updates(\n",
            "  File \"/usr/local/lib/python3.10/dist-packages/aiogram/bot/bot.py\", line 110, in get_updates\n",
            "    result = await self.request(api.Methods.GET_UPDATES, payload)\n",
            "  File \"/usr/local/lib/python3.10/dist-packages/aiogram/bot/base.py\", line 236, in request\n",
            "    return await api.make_request(await self.get_session(), self.server, self.__token, method, data, files,\n",
            "  File \"/usr/local/lib/python3.10/dist-packages/aiogram/bot/api.py\", line 142, in make_request\n",
            "    raise exceptions.NetworkError(f\"aiohttp client throws an error: {e.__class__.__name__}: {e}\")\n",
            "aiogram.utils.exceptions.NetworkError: Aiohttp client throws an error: ClientOSError: [Errno 104] Connection reset by peer\n",
            "ERROR:aiogram.dispatcher.dispatcher:Cause exception while getting updates.\n",
            "Traceback (most recent call last):\n",
            "  File \"/usr/local/lib/python3.10/dist-packages/aiogram/bot/api.py\", line 139, in make_request\n",
            "    async with session.post(url, data=req, **kwargs) as response:\n",
            "  File \"/usr/local/lib/python3.10/dist-packages/aiohttp/client.py\", line 1167, in __aenter__\n",
            "    self._resp = await self._coro\n",
            "  File \"/usr/local/lib/python3.10/dist-packages/aiohttp/client.py\", line 586, in _request\n",
            "    await resp.start(conn)\n",
            "  File \"/usr/local/lib/python3.10/dist-packages/aiohttp/client_reqrep.py\", line 905, in start\n",
            "    message, payload = await protocol.read()  # type: ignore[union-attr]\n",
            "  File \"/usr/local/lib/python3.10/dist-packages/aiohttp/streams.py\", line 616, in read\n",
            "    await self._waiter\n",
            "  File \"/usr/lib/python3.10/asyncio/futures.py\", line 285, in __await__\n",
            "    yield self  # This tells Task to wait for completion.\n",
            "  File \"/usr/lib/python3.10/asyncio/tasks.py\", line 304, in __wakeup\n",
            "    future.result()\n",
            "  File \"/usr/lib/python3.10/asyncio/futures.py\", line 201, in result\n",
            "    raise self._exception.with_traceback(self._exception_tb)\n",
            "aiohttp.client_exceptions.ClientOSError: [Errno 104] Connection reset by peer\n",
            "\n",
            "During handling of the above exception, another exception occurred:\n",
            "\n",
            "Traceback (most recent call last):\n",
            "  File \"/usr/local/lib/python3.10/dist-packages/aiogram/dispatcher/dispatcher.py\", line 381, in start_polling\n",
            "    updates = await self.bot.get_updates(\n",
            "  File \"/usr/local/lib/python3.10/dist-packages/aiogram/bot/bot.py\", line 110, in get_updates\n",
            "    result = await self.request(api.Methods.GET_UPDATES, payload)\n",
            "  File \"/usr/local/lib/python3.10/dist-packages/aiogram/bot/base.py\", line 236, in request\n",
            "    return await api.make_request(await self.get_session(), self.server, self.__token, method, data, files,\n",
            "  File \"/usr/local/lib/python3.10/dist-packages/aiogram/bot/api.py\", line 142, in make_request\n",
            "    raise exceptions.NetworkError(f\"aiohttp client throws an error: {e.__class__.__name__}: {e}\")\n",
            "aiogram.utils.exceptions.NetworkError: Aiohttp client throws an error: ClientOSError: [Errno 104] Connection reset by peer\n"
          ]
        }
      ],
      "source": [
        "import sqlite3\n",
        "import logging\n",
        "from datetime import date\n",
        "from aiogram import Bot, Dispatcher, types\n",
        "from aiogram.types import ReplyKeyboardMarkup, KeyboardButton, InputFile, ContentType\n",
        "from aiogram.utils.executor import start_polling\n",
        "from aiogram.contrib.fsm_storage.memory import MemoryStorage\n",
        "from aiogram.dispatcher import FSMContext\n",
        "from aiogram.dispatcher.filters.state import State, StatesGroup\n",
        "import nest_asyncio\n",
        "import requests\n",
        "from PIL import Image\n",
        "\n",
        "# Настройка логирования\n",
        "logging.basicConfig(level=logging.INFO)\n",
        "\n",
        "# Инициализация бота\n",
        "BOT_TOKEN = \"7153682251:AAHG-E4tQgL5uZV1RgUv0nEf2SVxOXniOT8\"\n",
        "bot = Bot(token=BOT_TOKEN)\n",
        "storage = MemoryStorage()\n",
        "dp = Dispatcher(bot, storage=storage)\n",
        "\n",
        "# Подключение к базе данных\n",
        "DB_PATH = \"nutrition_bot.db\"\n",
        "\n",
        "def create_database():\n",
        "    try:\n",
        "        conn = sqlite3.connect(DB_PATH)\n",
        "        cursor = conn.cursor()\n",
        "        # Создание таблицы User\n",
        "        cursor.execute(\"\"\"\n",
        "        CREATE TABLE IF NOT EXISTS User (\n",
        "            user_id INTEGER PRIMARY KEY,\n",
        "            username TEXT,\n",
        "            max_calories INTEGER DEFAULT 2000,\n",
        "            max_protein INTEGER DEFAULT 100,\n",
        "            max_fat INTEGER DEFAULT 70,\n",
        "            max_carbs INTEGER DEFAULT 300\n",
        "        )\n",
        "        \"\"\")\n",
        "        # Создание таблицы DailyIntake\n",
        "        cursor.execute(\"\"\"\n",
        "CREATE TABLE IF NOT EXISTS DailyIntake (\n",
        "    intake_id INTEGER PRIMARY KEY AUTOINCREMENT,\n",
        "    user_id INTEGER,\n",
        "    date TEXT,\n",
        "    calories INTEGER DEFAULT 0,\n",
        "    protein INTEGER DEFAULT 0,\n",
        "    fat INTEGER DEFAULT 0,\n",
        "    carbs INTEGER DEFAULT 0,\n",
        "    UNIQUE (user_id, date),\n",
        "    FOREIGN KEY (user_id) REFERENCES User(user_id)\n",
        ")\n",
        "\"\"\")\n",
        "\n",
        "        conn.commit()\n",
        "    except sqlite3.OperationalError as e:\n",
        "        if 'malformed' in str(e):\n",
        "            print(\"Database disk image is malformed. Attempting to repair...\")\n",
        "            conn.execute(\"VACUUM\")  # Rebuilds the database file\n",
        "            conn.commit()\n",
        "    finally:\n",
        "        conn.close()\n",
        "\n",
        "create_database()\n",
        "\n",
        "# Функции для работы с БД\n",
        "def get_user_data(user_id):\n",
        "    conn = sqlite3.connect(DB_PATH)\n",
        "    cursor = conn.cursor()\n",
        "    cursor.execute(\"SELECT user_id, username, max_calories, max_protein, max_fat, max_carbs FROM User WHERE user_id = ?\", (user_id,))\n",
        "    user_data = cursor.fetchone()\n",
        "    conn.close()\n",
        "    return user_data\n",
        "\n",
        "# Состояния пользователя\n",
        "class UserState(StatesGroup):\n",
        "    editing_name = State()\n",
        "    editing_calories = State()\n",
        "    editing_protein = State()\n",
        "    editing_fat = State()\n",
        "    editing_carbs = State()\n",
        "\n",
        "def update_user_data(user_id, field, value):\n",
        "    conn = sqlite3.connect(DB_PATH)\n",
        "    cursor = conn.cursor()\n",
        "    cursor.execute(f\"UPDATE User SET {field} = ? WHERE user_id = ?\", (value, user_id))\n",
        "    conn.commit()\n",
        "    conn.close()\n",
        "\n",
        "def get_daily_intake(user_id, today):\n",
        "    conn = sqlite3.connect(DB_PATH)\n",
        "    cursor = conn.cursor()\n",
        "    cursor.execute(\n",
        "        \"SELECT calories, protein, fat, carbs FROM DailyIntake WHERE user_id = ? AND date = ?\",\n",
        "        (user_id, today),\n",
        "    )\n",
        "    daily_data = cursor.fetchone()\n",
        "    conn.close()\n",
        "    return daily_data or (0, 0, 0, 0)\n",
        "\n",
        "def update_daily_intake(user_id, today, calories, protein, fat, carbs):\n",
        "    conn = sqlite3.connect(DB_PATH)\n",
        "    cursor = conn.cursor()\n",
        "    cursor.execute(\n",
        "        \"\"\"\n",
        "        INSERT INTO DailyIntake (user_id, date, calories, protein, fat, carbs)\n",
        "        VALUES (?, ?, ?, ?, ?, ?)\n",
        "        ON CONFLICT(user_id, date) DO UPDATE SET\n",
        "            calories = calories + ?,\n",
        "            protein = protein + ?,\n",
        "            fat = fat + ?,\n",
        "            carbs = carbs + ?\n",
        "        \"\"\",\n",
        "        (user_id, today, calories, protein, fat, carbs, calories, protein, fat, carbs),\n",
        "    )\n",
        "    conn.commit()\n",
        "    conn.close()\n",
        "\n",
        "# Состояния пользователя\n",
        "class PhotoState(StatesGroup):\n",
        "    waiting_for_photo = State()\n",
        "    waiting_for_action = State()\n",
        "\n",
        "# Клавиатуры\n",
        "main_keyboard = ReplyKeyboardMarkup(resize_keyboard=True)\n",
        "main_keyboard.row(KeyboardButton(\"Просмотр своего аккаунта\"), KeyboardButton(\"Посмотреть калории за день\"))\n",
        "main_keyboard.row(KeyboardButton(\"Сколько ещё надо съесть\"), KeyboardButton(\"Прислать фотографию\"))\n",
        "main_keyboard.row(KeyboardButton(\"Картинка с прогрессом\"))\n",
        "\n",
        "photo_action_keyboard = ReplyKeyboardMarkup(resize_keyboard=True)\n",
        "photo_action_keyboard.row(KeyboardButton(\"Посчитать калории\"), KeyboardButton(\"Совет\"))\n",
        "photo_action_keyboard.row(KeyboardButton(\"Назад в меню\"))\n",
        "\n",
        "# Обработчики\n",
        "@dp.message_handler(commands=[\"start\"])\n",
        "async def cmd_start(message: types.Message):\n",
        "    user_id = message.from_user.id\n",
        "    username = message.from_user.username\n",
        "\n",
        "    if not get_user_data(user_id):\n",
        "        conn = sqlite3.connect(DB_PATH)\n",
        "        cursor = conn.cursor()\n",
        "        cursor.execute(\"\"\"\n",
        "        INSERT INTO User (user_id, username, max_calories, max_protein, max_fat, max_carbs)\n",
        "        VALUES (?, ?, 2000, 100, 70, 300)\n",
        "        \"\"\", (user_id, username))\n",
        "        conn.commit()\n",
        "        conn.close()\n",
        "\n",
        "    await message.reply(\n",
        "        \"Добро пожаловать в бота для расчёта калорий и БЖУ! Выберите действие с помощью кнопок.\",\n",
        "        reply_markup=main_keyboard\n",
        "    )\n",
        "\n",
        "\n",
        "account_keyboard = ReplyKeyboardMarkup(resize_keyboard=True)\n",
        "account_keyboard.row(KeyboardButton(\"Просмотр аккаунта\"))\n",
        "account_keyboard.row(KeyboardButton(\"Редактирование имени\"), KeyboardButton(\"Редактирование своего максимума калорий\"))\n",
        "account_keyboard.row(KeyboardButton(\"Редактирование своего максимума БЖУ\"), KeyboardButton(\"Назад в меню\"))\n",
        "\n",
        "# Обработчики\n",
        "@dp.message_handler(lambda message: message.text == \"Просмотр своего аккаунта\")\n",
        "async def view_account_menu(message: types.Message):\n",
        "    await message.reply(\"Выберите действие:\", reply_markup=account_keyboard)\n",
        "\n",
        "@dp.message_handler(lambda message: message.text == \"Просмотр аккаунта\")\n",
        "async def view_account(message: types.Message):\n",
        "    user_data = get_user_data(message.from_user.id)\n",
        "    if not user_data:\n",
        "        await message.reply(\"Ваш профиль не найден. Зарегистрируйтесь с помощью команды /start.\")\n",
        "        return\n",
        "\n",
        "    _, username, max_calories, max_protein, max_fat, max_carbs = user_data\n",
        "    await message.reply(\n",
        "        f\"Ваш профиль:\\n\"\n",
        "        f\"Имя: {username}\\n\"\n",
        "        f\"Лимит калорий: {max_calories}\\n\"\n",
        "        f\"Белки: {max_protein}, Жиры: {max_fat}, Углеводы: {max_carbs}\"\n",
        "    )\n",
        "\n",
        "@dp.message_handler(lambda message: message.text == \"Редактирование имени\")\n",
        "async def edit_name_start(message: types.Message):\n",
        "    await UserState.editing_name.set()\n",
        "    await message.reply(\"Введите новое имя.\")\n",
        "\n",
        "@dp.message_handler(state=UserState.editing_name)\n",
        "async def edit_name(message: types.Message, state: FSMContext):\n",
        "    new_name = message.text\n",
        "    update_user_data(message.from_user.id, \"username\", new_name)\n",
        "    await state.finish()\n",
        "    await message.reply(\"Изменения сохранены.\", reply_markup=account_keyboard)\n",
        "\n",
        "@dp.message_handler(lambda message: message.text == \"Редактирование своего максимума калорий\")\n",
        "async def edit_calories_start(message: types.Message):\n",
        "    await UserState.editing_calories.set()\n",
        "    await message.reply(\"Введите новое значение калорий (допустимые значения: 500-5000).\")\n",
        "\n",
        "@dp.message_handler(state=UserState.editing_calories)\n",
        "async def edit_calories(message: types.Message, state: FSMContext):\n",
        "    try:\n",
        "        new_calories = int(message.text)\n",
        "        if 500 <= new_calories <= 5000:\n",
        "            update_user_data(message.from_user.id, \"max_calories\", new_calories)\n",
        "            await state.finish()\n",
        "            await message.reply(\"Изменения сохранены.\", reply_markup=account_keyboard)\n",
        "        else:\n",
        "            await message.reply(\"Введите значение в диапазоне 500-5000.\")\n",
        "    except ValueError:\n",
        "        await message.reply(\"Пожалуйста, введите корректное число.\")\n",
        "\n",
        "@dp.message_handler(lambda message: message.text == \"Редактирование своего максимума БЖУ\")\n",
        "async def edit_bju_start(message: types.Message):\n",
        "    await UserState.editing_protein.set()\n",
        "    await message.reply(\"Введите количество белков в граммах.\")\n",
        "\n",
        "@dp.message_handler(state=UserState.editing_protein)\n",
        "async def edit_protein(message: types.Message, state: FSMContext):\n",
        "    try:\n",
        "        protein = int(message.text)\n",
        "        await state.update_data(protein=protein)\n",
        "        await UserState.editing_fat.set()\n",
        "        await message.reply(\"Введите количество жиров в граммах.\")\n",
        "    except ValueError:\n",
        "        await message.reply(\"Пожалуйста, введите корректное число.\")\n",
        "\n",
        "@dp.message_handler(state=UserState.editing_fat)\n",
        "async def edit_fat(message: types.Message, state: FSMContext):\n",
        "    try:\n",
        "        fat = int(message.text)\n",
        "        await state.update_data(fat=fat)\n",
        "        await UserState.editing_carbs.set()\n",
        "        await message.reply(\"Введите количество углеводов в граммах.\")\n",
        "    except ValueError:\n",
        "        await message.reply(\"Пожалуйста, введите корректное число.\")\n",
        "\n",
        "@dp.message_handler(state=UserState.editing_carbs)\n",
        "async def edit_carbs(message: types.Message, state: FSMContext):\n",
        "    try:\n",
        "        carbs = int(message.text)\n",
        "        user_data = await state.get_data()\n",
        "        update_user_data(message.from_user.id, \"max_protein\", user_data[\"protein\"])\n",
        "        update_user_data(message.from_user.id, \"max_fat\", user_data[\"fat\"])\n",
        "        update_user_data(message.from_user.id, \"max_carbs\", carbs)\n",
        "        await state.finish()\n",
        "        await message.reply(\"Изменения сохранены.\", reply_markup=account_keyboard)\n",
        "    except ValueError:\n",
        "        await message.reply(\"Пожалуйста, введите корректное число.\")\n",
        "\n",
        "@dp.message_handler(lambda message: message.text == \"Назад в меню\")\n",
        "async def back_to_main_menu(message: types.Message):\n",
        "    await message.reply(\"Вы вернулись в главное меню.\", reply_markup=main_keyboard)\n",
        "\n",
        "\n",
        "@dp.message_handler(lambda message: message.text == \"Назад в меню\")\n",
        "async def back_to_main_menu(message: types.Message):\n",
        "    await message.reply(\"Вы вернулись в главное меню.\", reply_markup=main_keyboard)\n",
        "\n",
        "\n",
        "@dp.message_handler(lambda message: message.text == \"Посмотреть калории за день\")\n",
        "async def daily_calories(message: types.Message):\n",
        "    user_id = message.from_user.id\n",
        "    today = str(date.today())\n",
        "    daily_data = get_daily_intake(user_id, today)\n",
        "\n",
        "    total_calories, total_protein, total_fat, total_carbs = daily_data\n",
        "    await message.reply(\n",
        "        f\"Ваши данные за сегодня:\\n\"\n",
        "        f\"Калории: {total_calories}\\n\"\n",
        "        f\"Белки: {total_protein}, Жиры: {total_fat}, Углеводы: {total_carbs}\"\n",
        "    )\n",
        "\n",
        "@dp.message_handler(lambda message: message.text == \"Сколько ещё надо съесть\")\n",
        "async def remaining_nutrients(message: types.Message):\n",
        "    user_id = message.from_user.id\n",
        "    today = str(date.today())\n",
        "\n",
        "    user_data = get_user_data(user_id)\n",
        "    if not user_data:\n",
        "        await message.reply(\"Ваш профиль не найден. Зарегистрируйтесь с помощью команды /start.\")\n",
        "        return\n",
        "\n",
        "    _, _, max_calories, max_protein, max_fat, max_carbs = user_data\n",
        "    daily_data = get_daily_intake(user_id, today)\n",
        "    total_calories, total_protein, total_fat, total_carbs = daily_data\n",
        "\n",
        "    await message.reply(\n",
        "        f\"Остаток до лимита:\\n\"\n",
        "        f\"Калории: {max_calories - total_calories}\\n\"\n",
        "        f\"Белки: {max_protein - total_protein}, Жиры: {max_fat - total_fat}, Углеводы: {max_carbs - total_carbs}\"\n",
        "    )\n",
        "\n",
        "@dp.message_handler(lambda message: message.text == \"Прислать фотографию\")\n",
        "async def ask_for_photo(message: types.Message):\n",
        "    await PhotoState.waiting_for_photo.set()\n",
        "    await message.reply(\"Пожалуйста, пришлите фотографию.\")\n",
        "\n",
        "@dp.message_handler(content_types=ContentType.PHOTO, state=PhotoState.waiting_for_photo)\n",
        "async def receive_photo(message: types.Message, state: FSMContext):\n",
        "    try:\n",
        "        # Получение идентификатора файла\n",
        "        file_id = message.photo[-1].file_id\n",
        "        async with state.proxy() as data:\n",
        "            data['file_id'] = file_id\n",
        "\n",
        "        # Получение URL файла\n",
        "        file_info = await bot.get_file(file_id)\n",
        "        file_url = f\"https://api.telegram.org/file/bot{BOT_TOKEN}/{file_info.file_path}\"\n",
        "\n",
        "        # Обработка данных и добавление в таблицу\n",
        "        user_id = message.from_user.id\n",
        "        today = str(date.today())\n",
        "        result = process_and_save_calories(user_id, today, file_url)\n",
        "\n",
        "        # Уведомление пользователя о добавлении данных\n",
        "        await message.reply(result)\n",
        "\n",
        "        # Перевод состояния в ожидание действия\n",
        "        await PhotoState.waiting_for_action.set()\n",
        "        await message.reply(\"Фотография обработана. Выберите дальнейшее действие:\", reply_markup=photo_action_keyboard)\n",
        "    except Exception as e:\n",
        "        logging.error(f\"Ошибка обработки фото: {e}\")\n",
        "        await message.reply(\"Произошла ошибка при обработке изображения. Попробуйте снова.\")\n",
        "\n",
        "@dp.message_handler(lambda message: message.text == \"Посчитать калории\", state=PhotoState.waiting_for_action)\n",
        "async def calculate_calories(message: types.Message, state: FSMContext):\n",
        "    async with state.proxy() as data:\n",
        "        file_id = data.get('file_id')\n",
        "\n",
        "    try:\n",
        "        file_info = await bot.get_file(file_id)\n",
        "        file_url = f\"https://api.telegram.org/file/bot{BOT_TOKEN}/{file_info.file_path}\"\n",
        "\n",
        "        reply = calories(file_url)\n",
        "        await message.reply(reply)\n",
        "    except Exception as e:\n",
        "        logging.error(f\"Ошибка при расчёте калорий: {e}\")\n",
        "        await message.reply(\"Не удалось рассчитать калории. Попробуйте снова.\")\n",
        "\n",
        "@dp.message_handler(lambda message: message.text == \"Совет\", state=PhotoState.waiting_for_action)\n",
        "async def give_advice(message: types.Message, state: FSMContext):\n",
        "    async with state.proxy() as data:\n",
        "        file_id = data.get('file_id')\n",
        "\n",
        "    try:\n",
        "        file_info = await bot.get_file(file_id)\n",
        "        file_url = f\"https://api.telegram.org/file/bot{BOT_TOKEN}/{file_info.file_path}\"\n",
        "\n",
        "        reply = advice(file_url)\n",
        "        await message.reply(reply)\n",
        "    except Exception as e:\n",
        "        logging.error(f\"Ошибка при генерации совета: {e}\")\n",
        "        await message.reply(\"Не удалось дать совет. Попробуйте снова.\")\n",
        "\n",
        "@dp.message_handler(lambda message: message.text == \"Назад в меню\", state=PhotoState.waiting_for_action)\n",
        "async def back_to_menu(message: types.Message, state: FSMContext):\n",
        "    await state.finish()\n",
        "    await message.reply(\"Вы вернулись в главное меню.\", reply_markup=main_keyboard)\n",
        "@dp.message_handler(lambda message: message.text == \"Картинка с прогрессом\")\n",
        "async def send_progress_image(message: types.Message):\n",
        "    user_id = message.from_user.id\n",
        "    today = str(date.today())\n",
        "\n",
        "    # Получение данных пользователя и прогресса\n",
        "    user_data = get_user_data(user_id)\n",
        "    if not user_data:\n",
        "        await message.reply(\"Ваш профиль не найден. Зарегистрируйтесь с помощью команды /start.\")\n",
        "        return\n",
        "\n",
        "    _, _, max_calories, max_protein, max_fat, max_carbs = user_data\n",
        "    daily_data = get_daily_intake(user_id, today)\n",
        "    total_calories, total_protein, total_fat, total_carbs = daily_data\n",
        "\n",
        "    # Создание изображения\n",
        "    image_path = create_progress_image(\n",
        "        max_calories, max_protein, max_fat, max_carbs,\n",
        "        total_calories, total_protein, total_fat, total_carbs\n",
        "    )\n",
        "\n",
        "    # Отправка изображения пользователю\n",
        "    with open(image_path, 'rb') as image_file:\n",
        "        await bot.send_photo(message.chat.id, photo=image_file, caption=\"Ваш прогресс за сегодня.\")\n",
        "\n",
        "\n",
        "# Запуск бота\n",
        "nest_asyncio.apply()\n",
        "\n",
        "if __name__ == \"__main__\":\n",
        "    start_polling(dp, skip_updates=True)"
      ]
    },
    {
      "cell_type": "code",
      "execution_count": null,
      "metadata": {
        "colab": {
          "base_uri": "https://localhost:8080/",
          "height": 383
        },
        "collapsed": true,
        "id": "KlWHGO51DAT_",
        "outputId": "ce52b22a-4624-4977-b154-026b079b9dc7"
      },
      "outputs": [
        {
          "ename": "ModuleNotFoundError",
          "evalue": "No module named 'aiogram.filters'",
          "output_type": "error",
          "traceback": [
            "\u001b[0;31m---------------------------------------------------------------------------\u001b[0m",
            "\u001b[0;31mModuleNotFoundError\u001b[0m                       Traceback (most recent call last)",
            "\u001b[0;32m<ipython-input-11-9e09e52bf81e>\u001b[0m in \u001b[0;36m<cell line: 4>\u001b[0;34m()\u001b[0m\n\u001b[1;32m      2\u001b[0m \u001b[0;32mfrom\u001b[0m \u001b[0mdatetime\u001b[0m \u001b[0;32mimport\u001b[0m \u001b[0mdatetime\u001b[0m\u001b[0;34m\u001b[0m\u001b[0;34m\u001b[0m\u001b[0m\n\u001b[1;32m      3\u001b[0m \u001b[0;32mfrom\u001b[0m \u001b[0maiogram\u001b[0m \u001b[0;32mimport\u001b[0m \u001b[0mBot\u001b[0m\u001b[0;34m,\u001b[0m \u001b[0mDispatcher\u001b[0m\u001b[0;34m,\u001b[0m \u001b[0mtypes\u001b[0m\u001b[0;34m\u001b[0m\u001b[0;34m\u001b[0m\u001b[0m\n\u001b[0;32m----> 4\u001b[0;31m \u001b[0;32mfrom\u001b[0m \u001b[0maiogram\u001b[0m\u001b[0;34m.\u001b[0m\u001b[0mfilters\u001b[0m \u001b[0;32mimport\u001b[0m \u001b[0mCommand\u001b[0m\u001b[0;34m\u001b[0m\u001b[0;34m\u001b[0m\u001b[0m\n\u001b[0m\u001b[1;32m      5\u001b[0m \u001b[0;32mfrom\u001b[0m \u001b[0maiogram\u001b[0m\u001b[0;34m.\u001b[0m\u001b[0mtypes\u001b[0m \u001b[0;32mimport\u001b[0m \u001b[0mReplyKeyboardMarkup\u001b[0m\u001b[0;34m,\u001b[0m \u001b[0mKeyboardButton\u001b[0m\u001b[0;34m\u001b[0m\u001b[0;34m\u001b[0m\u001b[0m\n\u001b[1;32m      6\u001b[0m \u001b[0;34m\u001b[0m\u001b[0m\n",
            "\u001b[0;31mModuleNotFoundError\u001b[0m: No module named 'aiogram.filters'",
            "",
            "\u001b[0;31m---------------------------------------------------------------------------\u001b[0;32m\nNOTE: If your import is failing due to a missing package, you can\nmanually install dependencies using either !pip or !apt.\n\nTo view examples of installing some common dependencies, click the\n\"Open Examples\" button below.\n\u001b[0;31m---------------------------------------------------------------------------\u001b[0m\n"
          ]
        }
      ],
      "source": [
        "# Включаем логирование, чтобы не пропустить важные сообщения\n",
        "logging.basicConfig(level=logging.INFO)\n",
        "\n",
        "# Объект бота\n",
        "bot = Bot(token=\"7153682251:AAHG-E4tQgL5uZV1RgUv0nEf2SVxOXniOT8\")\n",
        "\n",
        "# Диспетчерюю\n",
        "dp = Dispatcher()\n",
        "\n",
        "image_url = None\n",
        "\n",
        "# Хэндлер на команду /start\n",
        "@dp.message(Command(\"start\"))\n",
        "async def cmd_start(message: types.Message):\n",
        "    await message.answer(\"Я телеграм бот для оценки вашего рациона. Пришлите мне фото своего приема пищи - я напишу вам, сколько в нем калорий, белков, жиров и углеводов, а также что к этому приему добавить\")\n",
        "\n",
        "# Хэндлер на получение изображений\n",
        "@dp.message(F.photo)\n",
        "async def handle_photo(message: types.Message):\n",
        "    global image_url\n",
        "    # Получаем информацию об изображении\n",
        "    photo = message.photo[-1]\n",
        "    file_id = photo.file_id\n",
        "    file_info = await bot.get_file(file_id)\n",
        "    image_url = f\"https://api.telegram.org/file/bot{bot.token}/{file_info.file_path}\"\n",
        "\n",
        "    kb = [\n",
        "        [\n",
        "            types.KeyboardButton(text=\"Посчитай калории\"),\n",
        "            types.KeyboardButton(text=\"Посоветуй что добавить\")\n",
        "        ],\n",
        "    ]\n",
        "    keyboard = types.ReplyKeyboardMarkup(\n",
        "        keyboard=kb,\n",
        "        resize_keyboard=True,\n",
        "        input_field_placeholder=\"выберите :)\"\n",
        "    )\n",
        "    await message.answer(\"Как мне вам помочь? Я могу посчитать калории или посоветовать что ещё съесть, чтобы сделать прием пищи разнообразнее\", reply_markup=keyboard)\n",
        "\n",
        "@dp.message(F.text.lower() == \"посчитай калории\")\n",
        "async def calo(message: types.Message):\n",
        "    global image_url\n",
        "    reply=calories(image_url)\n",
        "    await message.reply(reply)\n",
        "\n",
        "@dp.message(F.text.lower() == \"посоветуй что добавить\")\n",
        "async def adv(message: types.Message):\n",
        "    global image_url\n",
        "    reply=advice(image_url)\n",
        "    await message.reply(reply)\n",
        "\n",
        "@dp.message(F.text.lower() == \"бобр курва\")\n",
        "async def calo(message: types.Message):\n",
        "    reply='я пердоле'\n",
        "    await message.reply(reply)\n",
        "\n",
        "\n",
        "# Запуск процесса асинхронно\n",
        "async def main():\n",
        "    await dp.start_polling(bot)\n",
        "\n",
        "# Запуск асинхронного процесса\n",
        "await main()\n"
      ]
    }
  ],
  "metadata": {
    "colab": {
      "collapsed_sections": [
        "rv3bHi5v1PIe",
        "pZcwNCOT1H2q",
        "VE3ZB8Tg15qX",
        "o2AMh8sV1sry"
      ],
      "provenance": []
    },
    "kernelspec": {
      "display_name": "Python 3",
      "name": "python3"
    },
    "language_info": {
      "name": "python"
    }
  },
  "nbformat": 4,
  "nbformat_minor": 0
}